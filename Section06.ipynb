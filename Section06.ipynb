{
  "nbformat": 4,
  "nbformat_minor": 0,
  "metadata": {
    "colab": {
      "provenance": [],
      "authorship_tag": "ABX9TyPnQRVSD4lrTt4bnJfiKaw4",
      "include_colab_link": true
    },
    "kernelspec": {
      "name": "python3",
      "display_name": "Python 3"
    },
    "language_info": {
      "name": "python"
    }
  },
  "cells": [
    {
      "cell_type": "markdown",
      "metadata": {
        "id": "view-in-github",
        "colab_type": "text"
      },
      "source": [
        "<a href=\"https://colab.research.google.com/github/JongeunKeum/python-numpy/blob/main/Section06.ipynb\" target=\"_parent\"><img src=\"https://colab.research.google.com/assets/colab-badge.svg\" alt=\"Open In Colab\"/></a>"
      ]
    },
    {
      "cell_type": "code",
      "execution_count": 1,
      "metadata": {
        "id": "rNCqTgEYv-g4"
      },
      "outputs": [],
      "source": [
        "import numpy as np"
      ]
    },
    {
      "cell_type": "markdown",
      "source": [
        "# Section 6. N차원 배열의 병합"
      ],
      "metadata": {
        "id": "Rvlh906uwBZS"
      }
    },
    {
      "cell_type": "markdown",
      "source": [
        "## 6-1. 배열에 원소 추가 및 삭제"
      ],
      "metadata": {
        "id": "M-OH40k0xA-_"
      }
    },
    {
      "cell_type": "code",
      "source": [
        "# python list\n",
        "arr = [1, 2, 3, 4, 5, 6, 7, 8]\n",
        "arr.insert(2, 50)\n",
        "print(arr)"
      ],
      "metadata": {
        "colab": {
          "base_uri": "https://localhost:8080/"
        },
        "id": "QkZ5to3wwA37",
        "outputId": "69ed0eda-eb18-422e-8d1e-cc00db8335bd"
      },
      "execution_count": 2,
      "outputs": [
        {
          "output_type": "stream",
          "name": "stdout",
          "text": [
            "[1, 2, 50, 3, 4, 5, 6, 7, 8]\n"
          ]
        }
      ]
    },
    {
      "cell_type": "code",
      "source": [
        "# 1차원 배열 insert()\n",
        "arr = np.arange(1, 9)\n",
        "arr = np.insert(arr, 2, 50)\n",
        "print(arr)"
      ],
      "metadata": {
        "colab": {
          "base_uri": "https://localhost:8080/"
        },
        "id": "6XBcNb8HxH_N",
        "outputId": "6bfbe3be-f9f1-4455-e0b0-6578281e3936"
      },
      "execution_count": 3,
      "outputs": [
        {
          "output_type": "stream",
          "name": "stdout",
          "text": [
            "[ 1  2 50  3  4  5  6  7  8]\n"
          ]
        }
      ]
    },
    {
      "cell_type": "code",
      "source": [
        "# 2차원 배열 insert()\n",
        "arr = np.arange(1, 13).reshape(3, 4)\n",
        "arr = np.insert(arr, 2, 50, axis=0)\n",
        "print(arr)"
      ],
      "metadata": {
        "colab": {
          "base_uri": "https://localhost:8080/"
        },
        "id": "e8dw367hxNGH",
        "outputId": "a1b09207-383b-486d-b44b-d2bdd7ea82f4"
      },
      "execution_count": 4,
      "outputs": [
        {
          "output_type": "stream",
          "name": "stdout",
          "text": [
            "[[ 1  2  3  4]\n",
            " [ 5  6  7  8]\n",
            " [50 50 50 50]\n",
            " [ 9 10 11 12]]\n"
          ]
        }
      ]
    },
    {
      "cell_type": "code",
      "source": [
        "arr = np.arange(1, 13).reshape(3, 4)\n",
        "arr = np.insert(arr, 2, 50, axis=1)\n",
        "print(arr)"
      ],
      "metadata": {
        "colab": {
          "base_uri": "https://localhost:8080/"
        },
        "id": "FJbYjZl3xYs3",
        "outputId": "f329a180-1723-4948-ba1b-fc954a3f02a6"
      },
      "execution_count": 5,
      "outputs": [
        {
          "output_type": "stream",
          "name": "stdout",
          "text": [
            "[[ 1  2 50  3  4]\n",
            " [ 5  6 50  7  8]\n",
            " [ 9 10 50 11 12]]\n"
          ]
        }
      ]
    },
    {
      "cell_type": "code",
      "source": [
        "arr = np.arange(1, 13).reshape(3, 4)\n",
        "arr = np.insert(arr, 2, 50) # axis 값을 주지 않으면, 1차원 배열로 변환 후에 삽입함\n",
        "print(arr)"
      ],
      "metadata": {
        "colab": {
          "base_uri": "https://localhost:8080/"
        },
        "id": "UgWQtYvixgKE",
        "outputId": "eb0de1ba-db01-467e-9cc7-286e9c23c752"
      },
      "execution_count": 7,
      "outputs": [
        {
          "output_type": "stream",
          "name": "stdout",
          "text": [
            "[ 1  2 50  3  4  5  6  7  8  9 10 11 12]\n"
          ]
        }
      ]
    },
    {
      "cell_type": "code",
      "source": [
        "# delete()\n",
        "arr = np.arange(1, 13).reshape(3, 4)\n",
        "print(arr)\n",
        "\n",
        "arr = np.delete(arr, 2, axis=0)\n",
        "print(arr)"
      ],
      "metadata": {
        "colab": {
          "base_uri": "https://localhost:8080/"
        },
        "id": "3cVLI69gxkBp",
        "outputId": "809f0bb2-fcca-4147-96bb-a09bafcad78f"
      },
      "execution_count": 9,
      "outputs": [
        {
          "output_type": "stream",
          "name": "stdout",
          "text": [
            "[[ 1  2  3  4]\n",
            " [ 5  6  7  8]\n",
            " [ 9 10 11 12]]\n",
            "[[1 2 3 4]\n",
            " [5 6 7 8]]\n"
          ]
        }
      ]
    },
    {
      "cell_type": "code",
      "source": [
        "arr = np.arange(1, 13).reshape(3, 4)\n",
        "print(arr)\n",
        "\n",
        "arr = np.delete(arr, 2, axis=1)\n",
        "print(arr)"
      ],
      "metadata": {
        "colab": {
          "base_uri": "https://localhost:8080/"
        },
        "id": "eKzdDuGaxxL-",
        "outputId": "76f1ec01-380c-4e57-dd33-d028b3b00b30"
      },
      "execution_count": 10,
      "outputs": [
        {
          "output_type": "stream",
          "name": "stdout",
          "text": [
            "[[ 1  2  3  4]\n",
            " [ 5  6  7  8]\n",
            " [ 9 10 11 12]]\n",
            "[[ 1  2  4]\n",
            " [ 5  6  8]\n",
            " [ 9 10 12]]\n"
          ]
        }
      ]
    },
    {
      "cell_type": "code",
      "source": [
        "arr = np.arange(1, 13).reshape(3, 4)\n",
        "print(arr)\n",
        "\n",
        "arr = np.delete(arr, 2)\n",
        "print(arr)"
      ],
      "metadata": {
        "colab": {
          "base_uri": "https://localhost:8080/"
        },
        "id": "kLRM_3dYx0ag",
        "outputId": "4125065d-88fd-4c1d-9ae7-8f8492a0c382"
      },
      "execution_count": 11,
      "outputs": [
        {
          "output_type": "stream",
          "name": "stdout",
          "text": [
            "[[ 1  2  3  4]\n",
            " [ 5  6  7  8]\n",
            " [ 9 10 11 12]]\n",
            "[ 1  2  4  5  6  7  8  9 10 11 12]\n"
          ]
        }
      ]
    },
    {
      "cell_type": "code",
      "source": [],
      "metadata": {
        "id": "KwTBN6SDx1sQ"
      },
      "execution_count": null,
      "outputs": []
    }
  ]
}