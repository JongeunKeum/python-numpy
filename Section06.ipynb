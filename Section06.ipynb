{
  "nbformat": 4,
  "nbformat_minor": 0,
  "metadata": {
    "colab": {
      "provenance": [],
      "authorship_tag": "ABX9TyP7+nQSbnReVrRVUdCYbBsZ",
      "include_colab_link": true
    },
    "kernelspec": {
      "name": "python3",
      "display_name": "Python 3"
    },
    "language_info": {
      "name": "python"
    }
  },
  "cells": [
    {
      "cell_type": "markdown",
      "metadata": {
        "id": "view-in-github",
        "colab_type": "text"
      },
      "source": [
        "<a href=\"https://colab.research.google.com/github/JongeunKeum/python-numpy/blob/main/Section06.ipynb\" target=\"_parent\"><img src=\"https://colab.research.google.com/assets/colab-badge.svg\" alt=\"Open In Colab\"/></a>"
      ]
    },
    {
      "cell_type": "code",
      "execution_count": 1,
      "metadata": {
        "id": "rNCqTgEYv-g4"
      },
      "outputs": [],
      "source": [
        "import numpy as np"
      ]
    },
    {
      "cell_type": "markdown",
      "source": [
        "# Section 6. N차원 배열의 병합"
      ],
      "metadata": {
        "id": "Rvlh906uwBZS"
      }
    },
    {
      "cell_type": "markdown",
      "source": [
        "## 6-1. 배열에 원소 추가 및 삭제"
      ],
      "metadata": {
        "id": "M-OH40k0xA-_"
      }
    },
    {
      "cell_type": "code",
      "source": [
        "# python list\n",
        "arr = [1, 2, 3, 4, 5, 6, 7, 8]\n",
        "arr.insert(2, 50)\n",
        "print(arr)"
      ],
      "metadata": {
        "colab": {
          "base_uri": "https://localhost:8080/"
        },
        "id": "QkZ5to3wwA37",
        "outputId": "69ed0eda-eb18-422e-8d1e-cc00db8335bd"
      },
      "execution_count": 2,
      "outputs": [
        {
          "output_type": "stream",
          "name": "stdout",
          "text": [
            "[1, 2, 50, 3, 4, 5, 6, 7, 8]\n"
          ]
        }
      ]
    },
    {
      "cell_type": "code",
      "source": [
        "# 1차원 배열 insert()\n",
        "arr = np.arange(1, 9)\n",
        "arr = np.insert(arr, 2, 50)\n",
        "print(arr)"
      ],
      "metadata": {
        "colab": {
          "base_uri": "https://localhost:8080/"
        },
        "id": "6XBcNb8HxH_N",
        "outputId": "6bfbe3be-f9f1-4455-e0b0-6578281e3936"
      },
      "execution_count": 3,
      "outputs": [
        {
          "output_type": "stream",
          "name": "stdout",
          "text": [
            "[ 1  2 50  3  4  5  6  7  8]\n"
          ]
        }
      ]
    },
    {
      "cell_type": "code",
      "source": [
        "# 2차원 배열 insert()\n",
        "arr = np.arange(1, 13).reshape(3, 4)\n",
        "arr = np.insert(arr, 2, 50, axis=0)\n",
        "print(arr)"
      ],
      "metadata": {
        "colab": {
          "base_uri": "https://localhost:8080/"
        },
        "id": "e8dw367hxNGH",
        "outputId": "a1b09207-383b-486d-b44b-d2bdd7ea82f4"
      },
      "execution_count": 4,
      "outputs": [
        {
          "output_type": "stream",
          "name": "stdout",
          "text": [
            "[[ 1  2  3  4]\n",
            " [ 5  6  7  8]\n",
            " [50 50 50 50]\n",
            " [ 9 10 11 12]]\n"
          ]
        }
      ]
    },
    {
      "cell_type": "code",
      "source": [
        "arr = np.arange(1, 13).reshape(3, 4)\n",
        "arr = np.insert(arr, 2, 50, axis=1)\n",
        "print(arr)"
      ],
      "metadata": {
        "colab": {
          "base_uri": "https://localhost:8080/"
        },
        "id": "FJbYjZl3xYs3",
        "outputId": "f329a180-1723-4948-ba1b-fc954a3f02a6"
      },
      "execution_count": 5,
      "outputs": [
        {
          "output_type": "stream",
          "name": "stdout",
          "text": [
            "[[ 1  2 50  3  4]\n",
            " [ 5  6 50  7  8]\n",
            " [ 9 10 50 11 12]]\n"
          ]
        }
      ]
    },
    {
      "cell_type": "code",
      "source": [
        "arr = np.arange(1, 13).reshape(3, 4)\n",
        "arr = np.insert(arr, 2, 50) # axis 값을 주지 않으면, 1차원 배열로 변환 후에 삽입함\n",
        "print(arr)"
      ],
      "metadata": {
        "colab": {
          "base_uri": "https://localhost:8080/"
        },
        "id": "UgWQtYvixgKE",
        "outputId": "eb0de1ba-db01-467e-9cc7-286e9c23c752"
      },
      "execution_count": 7,
      "outputs": [
        {
          "output_type": "stream",
          "name": "stdout",
          "text": [
            "[ 1  2 50  3  4  5  6  7  8  9 10 11 12]\n"
          ]
        }
      ]
    },
    {
      "cell_type": "code",
      "source": [
        "# delete()\n",
        "arr = np.arange(1, 13).reshape(3, 4)\n",
        "print(arr)\n",
        "\n",
        "arr = np.delete(arr, 2, axis=0)\n",
        "print(arr)"
      ],
      "metadata": {
        "colab": {
          "base_uri": "https://localhost:8080/"
        },
        "id": "3cVLI69gxkBp",
        "outputId": "809f0bb2-fcca-4147-96bb-a09bafcad78f"
      },
      "execution_count": 9,
      "outputs": [
        {
          "output_type": "stream",
          "name": "stdout",
          "text": [
            "[[ 1  2  3  4]\n",
            " [ 5  6  7  8]\n",
            " [ 9 10 11 12]]\n",
            "[[1 2 3 4]\n",
            " [5 6 7 8]]\n"
          ]
        }
      ]
    },
    {
      "cell_type": "code",
      "source": [
        "arr = np.arange(1, 13).reshape(3, 4)\n",
        "print(arr)\n",
        "\n",
        "arr = np.delete(arr, 2, axis=1)\n",
        "print(arr)"
      ],
      "metadata": {
        "colab": {
          "base_uri": "https://localhost:8080/"
        },
        "id": "eKzdDuGaxxL-",
        "outputId": "76f1ec01-380c-4e57-dd33-d028b3b00b30"
      },
      "execution_count": 10,
      "outputs": [
        {
          "output_type": "stream",
          "name": "stdout",
          "text": [
            "[[ 1  2  3  4]\n",
            " [ 5  6  7  8]\n",
            " [ 9 10 11 12]]\n",
            "[[ 1  2  4]\n",
            " [ 5  6  8]\n",
            " [ 9 10 12]]\n"
          ]
        }
      ]
    },
    {
      "cell_type": "code",
      "source": [
        "arr = np.arange(1, 13).reshape(3, 4)\n",
        "print(arr)\n",
        "\n",
        "arr = np.delete(arr, 2)\n",
        "print(arr)"
      ],
      "metadata": {
        "colab": {
          "base_uri": "https://localhost:8080/"
        },
        "id": "kLRM_3dYx0ag",
        "outputId": "4125065d-88fd-4c1d-9ae7-8f8492a0c382"
      },
      "execution_count": 11,
      "outputs": [
        {
          "output_type": "stream",
          "name": "stdout",
          "text": [
            "[[ 1  2  3  4]\n",
            " [ 5  6  7  8]\n",
            " [ 9 10 11 12]]\n",
            "[ 1  2  4  5  6  7  8  9 10 11 12]\n"
          ]
        }
      ]
    },
    {
      "cell_type": "markdown",
      "source": [
        "## 6-2. 배열 간의 병합"
      ],
      "metadata": {
        "id": "x4kebEgQx_CP"
      }
    },
    {
      "cell_type": "code",
      "source": [
        "# append()\n",
        "arr1 = np.arange(1, 13).reshape(3, 4)\n",
        "arr2 = np.arange(13, 25).reshape(3, 4)\n",
        "\n",
        "print(arr1)\n",
        "print(arr2, end=\"\\n\\n\")\n",
        "\n",
        "# axis=0\n",
        "arr3 = np.append(arr1, arr2, axis=0)\n",
        "print(arr3, end=\"\\n\\n\")\n",
        "\n",
        "# axis=1\n",
        "arr4 = np.append(arr1, arr2, axis=1)\n",
        "print(arr4, end=\"\\n\\n\")\n",
        "\n",
        "# axis 값 없이\n",
        "arr5 = np.append(arr1, arr2)\n",
        "print(arr5, end=\"\\n\\n\")"
      ],
      "metadata": {
        "colab": {
          "base_uri": "https://localhost:8080/"
        },
        "id": "KwTBN6SDx1sQ",
        "outputId": "5d107287-684e-4bb5-8a4a-b7933444eda9"
      },
      "execution_count": 15,
      "outputs": [
        {
          "output_type": "stream",
          "name": "stdout",
          "text": [
            "[[ 1  2  3  4]\n",
            " [ 5  6  7  8]\n",
            " [ 9 10 11 12]]\n",
            "[[13 14 15 16]\n",
            " [17 18 19 20]\n",
            " [21 22 23 24]]\n",
            "\n",
            "[[ 1  2  3  4]\n",
            " [ 5  6  7  8]\n",
            " [ 9 10 11 12]\n",
            " [13 14 15 16]\n",
            " [17 18 19 20]\n",
            " [21 22 23 24]]\n",
            "\n",
            "[[ 1  2  3  4 13 14 15 16]\n",
            " [ 5  6  7  8 17 18 19 20]\n",
            " [ 9 10 11 12 21 22 23 24]]\n",
            "\n",
            "[ 1  2  3  4  5  6  7  8  9 10 11 12 13 14 15 16 17 18 19 20 21 22 23 24]\n",
            "\n"
          ]
        }
      ]
    },
    {
      "cell_type": "code",
      "source": [
        "# vstack(): axis=0으로 병합, hstack(): axis=1로 병합\n",
        "arr1 = np.arange(1, 7).reshape(2, 3)\n",
        "arr2 = np.arange(7, 13).reshape(2, 3)\n",
        "\n",
        "arr3 = np.vstack((arr1, arr2))\n",
        "print(arr3, end=\"\\n\\n\")\n",
        "\n",
        "arr4 = np.hstack((arr1, arr2))\n",
        "print(arr4)"
      ],
      "metadata": {
        "colab": {
          "base_uri": "https://localhost:8080/"
        },
        "id": "OvxERcgTyLRy",
        "outputId": "80fb1804-d3fa-43bd-8f1e-f589f05376ee"
      },
      "execution_count": 18,
      "outputs": [
        {
          "output_type": "stream",
          "name": "stdout",
          "text": [
            "[[ 1  2  3]\n",
            " [ 4  5  6]\n",
            " [ 7  8  9]\n",
            " [10 11 12]]\n",
            "\n",
            "[[ 1  2  3  7  8  9]\n",
            " [ 4  5  6 10 11 12]]\n"
          ]
        }
      ]
    },
    {
      "cell_type": "code",
      "source": [
        "# concatenate()\n",
        "arr1 = np.arange(1, 7).reshape(2, 3)\n",
        "arr2 = np.arange(7, 13).reshape(2, 3)\n",
        "\n",
        "arr3 = np.concatenate([arr1, arr2], axis=0)\n",
        "print(arr3, end=\"\\n\\n\")\n",
        "\n",
        "arr4 = np.concatenate([arr1, arr2], axis=1)\n",
        "print(arr4)"
      ],
      "metadata": {
        "colab": {
          "base_uri": "https://localhost:8080/"
        },
        "id": "HURdNF5syr5_",
        "outputId": "3c45699b-87bd-461e-af7b-e8ee43cb7e94"
      },
      "execution_count": 21,
      "outputs": [
        {
          "output_type": "stream",
          "name": "stdout",
          "text": [
            "[[ 1  2  3]\n",
            " [ 4  5  6]\n",
            " [ 7  8  9]\n",
            " [10 11 12]]\n",
            "\n",
            "[[ 1  2  3  7  8  9]\n",
            " [ 4  5  6 10 11 12]]\n"
          ]
        }
      ]
    },
    {
      "cell_type": "markdown",
      "source": [
        "## 6-3. 배열 분할"
      ],
      "metadata": {
        "id": "t20EGiDuzGh1"
      }
    },
    {
      "cell_type": "code",
      "source": [
        "# 2차원 배열\n",
        "arr = np.arange(1, 13).reshape(3, 4)\n",
        "print(arr)"
      ],
      "metadata": {
        "colab": {
          "base_uri": "https://localhost:8080/"
        },
        "id": "9nbeLxvty6kj",
        "outputId": "3bd0207d-c208-44ca-ebe1-42f04c4a5fd3"
      },
      "execution_count": 22,
      "outputs": [
        {
          "output_type": "stream",
          "name": "stdout",
          "text": [
            "[[ 1  2  3  4]\n",
            " [ 5  6  7  8]\n",
            " [ 9 10 11 12]]\n"
          ]
        }
      ]
    },
    {
      "cell_type": "code",
      "source": [
        "# vsplit(): axis=0으로 분할\n",
        "arr_v = np.vsplit(arr, 3) # arr의 행이 3개이므로 홀수개로만 분할 가능\n",
        "print(arr_v)"
      ],
      "metadata": {
        "colab": {
          "base_uri": "https://localhost:8080/"
        },
        "id": "TVu3VenXzNwW",
        "outputId": "2ad57c27-1ac9-4d59-cd6c-e1ca08e4466a"
      },
      "execution_count": 24,
      "outputs": [
        {
          "output_type": "stream",
          "name": "stdout",
          "text": [
            "[array([[1, 2, 3, 4]]), array([[5, 6, 7, 8]]), array([[ 9, 10, 11, 12]])]\n"
          ]
        }
      ]
    },
    {
      "cell_type": "code",
      "source": [
        "# hsplit(): axis=1로 분할\n",
        "arr_h = np.hsplit(arr, 2) # arr의 열이 4개이므로 짝수개로만 분할 가능\n",
        "print(arr_h)"
      ],
      "metadata": {
        "colab": {
          "base_uri": "https://localhost:8080/"
        },
        "id": "goNWIroxzWq6",
        "outputId": "0b996ad1-fcf5-4090-9bc2-fb1a67f49cda"
      },
      "execution_count": 25,
      "outputs": [
        {
          "output_type": "stream",
          "name": "stdout",
          "text": [
            "[array([[ 1,  2],\n",
            "       [ 5,  6],\n",
            "       [ 9, 10]]), array([[ 3,  4],\n",
            "       [ 7,  8],\n",
            "       [11, 12]])]\n"
          ]
        }
      ]
    },
    {
      "cell_type": "code",
      "source": [
        "# 3차원 배열\n",
        "arr = np.random.randint(0, 10, (4, 6, 8))\n",
        "print(arr)"
      ],
      "metadata": {
        "colab": {
          "base_uri": "https://localhost:8080/"
        },
        "id": "HCXqDj7rzjPQ",
        "outputId": "14c30186-0365-4b10-b283-53baaabff597"
      },
      "execution_count": 26,
      "outputs": [
        {
          "output_type": "stream",
          "name": "stdout",
          "text": [
            "[[[7 9 4 0 9 8 9 0]\n",
            "  [2 0 4 6 6 8 1 0]\n",
            "  [4 3 4 9 4 0 2 5]\n",
            "  [8 8 0 1 4 8 5 8]\n",
            "  [1 3 9 1 3 9 0 2]\n",
            "  [5 6 8 6 9 0 7 2]]\n",
            "\n",
            " [[0 5 7 8 4 6 3 6]\n",
            "  [8 9 2 0 6 3 8 9]\n",
            "  [8 2 0 8 6 3 7 7]\n",
            "  [1 9 4 9 8 0 5 4]\n",
            "  [1 9 4 2 8 1 3 9]\n",
            "  [9 3 9 6 8 1 2 6]]\n",
            "\n",
            " [[4 9 0 5 2 2 4 8]\n",
            "  [5 6 4 4 9 4 7 5]\n",
            "  [8 4 4 2 6 2 5 9]\n",
            "  [7 5 8 3 6 7 2 0]\n",
            "  [3 4 9 8 6 7 4 3]\n",
            "  [9 0 0 9 9 6 4 3]]\n",
            "\n",
            " [[1 9 7 8 8 7 6 4]\n",
            "  [0 6 5 7 8 4 4 7]\n",
            "  [7 6 4 8 0 3 3 2]\n",
            "  [3 4 2 5 5 2 1 2]\n",
            "  [1 1 7 4 4 9 8 8]\n",
            "  [2 1 8 5 5 0 2 8]]]\n"
          ]
        }
      ]
    },
    {
      "cell_type": "code",
      "source": [
        "arr_v = np.vsplit(arr, 2)\n",
        "print(arr_v)"
      ],
      "metadata": {
        "colab": {
          "base_uri": "https://localhost:8080/"
        },
        "id": "RXq_GpCbzqLS",
        "outputId": "5ae9cec8-f7d3-403c-fb01-d321771d1dbf"
      },
      "execution_count": 27,
      "outputs": [
        {
          "output_type": "stream",
          "name": "stdout",
          "text": [
            "[array([[[7, 9, 4, 0, 9, 8, 9, 0],\n",
            "        [2, 0, 4, 6, 6, 8, 1, 0],\n",
            "        [4, 3, 4, 9, 4, 0, 2, 5],\n",
            "        [8, 8, 0, 1, 4, 8, 5, 8],\n",
            "        [1, 3, 9, 1, 3, 9, 0, 2],\n",
            "        [5, 6, 8, 6, 9, 0, 7, 2]],\n",
            "\n",
            "       [[0, 5, 7, 8, 4, 6, 3, 6],\n",
            "        [8, 9, 2, 0, 6, 3, 8, 9],\n",
            "        [8, 2, 0, 8, 6, 3, 7, 7],\n",
            "        [1, 9, 4, 9, 8, 0, 5, 4],\n",
            "        [1, 9, 4, 2, 8, 1, 3, 9],\n",
            "        [9, 3, 9, 6, 8, 1, 2, 6]]]), array([[[4, 9, 0, 5, 2, 2, 4, 8],\n",
            "        [5, 6, 4, 4, 9, 4, 7, 5],\n",
            "        [8, 4, 4, 2, 6, 2, 5, 9],\n",
            "        [7, 5, 8, 3, 6, 7, 2, 0],\n",
            "        [3, 4, 9, 8, 6, 7, 4, 3],\n",
            "        [9, 0, 0, 9, 9, 6, 4, 3]],\n",
            "\n",
            "       [[1, 9, 7, 8, 8, 7, 6, 4],\n",
            "        [0, 6, 5, 7, 8, 4, 4, 7],\n",
            "        [7, 6, 4, 8, 0, 3, 3, 2],\n",
            "        [3, 4, 2, 5, 5, 2, 1, 2],\n",
            "        [1, 1, 7, 4, 4, 9, 8, 8],\n",
            "        [2, 1, 8, 5, 5, 0, 2, 8]]])]\n"
          ]
        }
      ]
    },
    {
      "cell_type": "code",
      "source": [
        "arr_h = np.hsplit(arr, 2)\n",
        "print(arr_h)"
      ],
      "metadata": {
        "colab": {
          "base_uri": "https://localhost:8080/"
        },
        "id": "M1r6Vy1mzvlf",
        "outputId": "0e8b402c-6e73-41b0-9d32-1857389b48d4"
      },
      "execution_count": 28,
      "outputs": [
        {
          "output_type": "stream",
          "name": "stdout",
          "text": [
            "[array([[[7, 9, 4, 0, 9, 8, 9, 0],\n",
            "        [2, 0, 4, 6, 6, 8, 1, 0],\n",
            "        [4, 3, 4, 9, 4, 0, 2, 5]],\n",
            "\n",
            "       [[0, 5, 7, 8, 4, 6, 3, 6],\n",
            "        [8, 9, 2, 0, 6, 3, 8, 9],\n",
            "        [8, 2, 0, 8, 6, 3, 7, 7]],\n",
            "\n",
            "       [[4, 9, 0, 5, 2, 2, 4, 8],\n",
            "        [5, 6, 4, 4, 9, 4, 7, 5],\n",
            "        [8, 4, 4, 2, 6, 2, 5, 9]],\n",
            "\n",
            "       [[1, 9, 7, 8, 8, 7, 6, 4],\n",
            "        [0, 6, 5, 7, 8, 4, 4, 7],\n",
            "        [7, 6, 4, 8, 0, 3, 3, 2]]]), array([[[8, 8, 0, 1, 4, 8, 5, 8],\n",
            "        [1, 3, 9, 1, 3, 9, 0, 2],\n",
            "        [5, 6, 8, 6, 9, 0, 7, 2]],\n",
            "\n",
            "       [[1, 9, 4, 9, 8, 0, 5, 4],\n",
            "        [1, 9, 4, 2, 8, 1, 3, 9],\n",
            "        [9, 3, 9, 6, 8, 1, 2, 6]],\n",
            "\n",
            "       [[7, 5, 8, 3, 6, 7, 2, 0],\n",
            "        [3, 4, 9, 8, 6, 7, 4, 3],\n",
            "        [9, 0, 0, 9, 9, 6, 4, 3]],\n",
            "\n",
            "       [[3, 4, 2, 5, 5, 2, 1, 2],\n",
            "        [1, 1, 7, 4, 4, 9, 8, 8],\n",
            "        [2, 1, 8, 5, 5, 0, 2, 8]]])]\n"
          ]
        }
      ]
    },
    {
      "cell_type": "code",
      "source": [],
      "metadata": {
        "id": "uYlopnYgz21r"
      },
      "execution_count": null,
      "outputs": []
    }
  ]
}