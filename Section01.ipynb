{
  "nbformat": 4,
  "nbformat_minor": 0,
  "metadata": {
    "colab": {
      "provenance": [],
      "authorship_tag": "ABX9TyNlfdgQEDuKG84YK0ScRzfJ",
      "include_colab_link": true
    },
    "kernelspec": {
      "name": "python3",
      "display_name": "Python 3"
    },
    "language_info": {
      "name": "python"
    }
  },
  "cells": [
    {
      "cell_type": "markdown",
      "metadata": {
        "id": "view-in-github",
        "colab_type": "text"
      },
      "source": [
        "<a href=\"https://colab.research.google.com/github/JongeunKeum/python-numpy/blob/main/Section01.ipynb\" target=\"_parent\"><img src=\"https://colab.research.google.com/assets/colab-badge.svg\" alt=\"Open In Colab\"/></a>"
      ]
    },
    {
      "cell_type": "code",
      "source": [
        "import numpy as np"
      ],
      "metadata": {
        "id": "7K5HIrSzhO7R"
      },
      "execution_count": 4,
      "outputs": []
    },
    {
      "cell_type": "markdown",
      "source": [
        "# Section 1. N차원 배열 생성"
      ],
      "metadata": {
        "id": "a3xEHIlhh33g"
      }
    },
    {
      "cell_type": "markdown",
      "source": [
        "## 1-1. N차원 배열(ndarray) 생성하기"
      ],
      "metadata": {
        "id": "y9ZNNrNfh7YW"
      }
    },
    {
      "cell_type": "code",
      "source": [
        "# 1차원 배열\n",
        "arr = np.array([1, 2, 3])\n",
        "print(arr)\n",
        "\n",
        "# 2차원 배열\n",
        "arr2 = np.array([[1, 2, 3],\n",
        "                 [4, 5, 6]])\n",
        "print(arr2)"
      ],
      "metadata": {
        "colab": {
          "base_uri": "https://localhost:8080/"
        },
        "id": "BwXT1c2ShhKS",
        "outputId": "728ccadf-a89f-4399-886d-fa6d3c60619b"
      },
      "execution_count": 7,
      "outputs": [
        {
          "output_type": "stream",
          "name": "stdout",
          "text": [
            "[1 2 3]\n",
            "[[1 2 3]\n",
            " [4 5 6]]\n"
          ]
        }
      ]
    },
    {
      "cell_type": "code",
      "source": [
        "type([1, 2, 3])"
      ],
      "metadata": {
        "colab": {
          "base_uri": "https://localhost:8080/"
        },
        "id": "4zD6YInliC8E",
        "outputId": "ff2691f3-0b24-498f-aa4a-0b1f97e6394b"
      },
      "execution_count": 11,
      "outputs": [
        {
          "output_type": "execute_result",
          "data": {
            "text/plain": [
              "list"
            ]
          },
          "metadata": {},
          "execution_count": 11
        }
      ]
    },
    {
      "cell_type": "code",
      "source": [
        "type(arr)"
      ],
      "metadata": {
        "colab": {
          "base_uri": "https://localhost:8080/"
        },
        "id": "DxTt3HgSiO_U",
        "outputId": "a0769a66-e2c9-4b3f-abfa-2409018710b1"
      },
      "execution_count": 12,
      "outputs": [
        {
          "output_type": "execute_result",
          "data": {
            "text/plain": [
              "numpy.ndarray"
            ]
          },
          "metadata": {},
          "execution_count": 12
        }
      ]
    },
    {
      "cell_type": "code",
      "source": [
        "tpl = (4, 5, 6)\n",
        "arr = np.array(tpl)\n",
        "print(arr)"
      ],
      "metadata": {
        "colab": {
          "base_uri": "https://localhost:8080/"
        },
        "id": "K_KxnAvXiXSs",
        "outputId": "e3986832-5f00-4d12-a379-0288a3bee20f"
      },
      "execution_count": 13,
      "outputs": [
        {
          "output_type": "stream",
          "name": "stdout",
          "text": [
            "[4 5 6]\n"
          ]
        }
      ]
    },
    {
      "cell_type": "code",
      "source": [
        "lst = [1, 2, 3]\n",
        "arr = np.array(lst)\n",
        "print(arr)"
      ],
      "metadata": {
        "colab": {
          "base_uri": "https://localhost:8080/"
        },
        "id": "fB3033cOicDU",
        "outputId": "21ff4c0e-e25d-42df-ef85-c76d5909bda6"
      },
      "execution_count": 15,
      "outputs": [
        {
          "output_type": "stream",
          "name": "stdout",
          "text": [
            "[1 2 3]\n"
          ]
        }
      ]
    },
    {
      "cell_type": "code",
      "source": [
        "lst2 = [[1, 2, 3], [4, 5, 6]]\n",
        "arr2 = np.array(lst2)\n",
        "print(arr2)"
      ],
      "metadata": {
        "colab": {
          "base_uri": "https://localhost:8080/"
        },
        "id": "iY_UWcjfidIR",
        "outputId": "c5b0ff6a-4b2f-4300-c56c-6ac8c12a7478"
      },
      "execution_count": 16,
      "outputs": [
        {
          "output_type": "stream",
          "name": "stdout",
          "text": [
            "[[1 2 3]\n",
            " [4 5 6]]\n"
          ]
        }
      ]
    },
    {
      "cell_type": "code",
      "source": [
        "# shape\n",
        "arr1 = np.array([1, 2, 3])\n",
        "arr2 = np.array([[1, 2, 3], [4, 5, 6]])\n",
        "print(arr1.shape, arr2.shape) # arr1은 원소가 3개인 1차원 배열, arr2는 행이 2개, 열이 3개인 2차원 array"
      ],
      "metadata": {
        "colab": {
          "base_uri": "https://localhost:8080/"
        },
        "id": "NnR5L6clijXO",
        "outputId": "ef88402e-131e-4e04-eb8d-d13a34081b88"
      },
      "execution_count": 19,
      "outputs": [
        {
          "output_type": "stream",
          "name": "stdout",
          "text": [
            "(3,) (2, 3)\n"
          ]
        }
      ]
    },
    {
      "cell_type": "code",
      "source": [
        "# ndim 차원 표시\n",
        "print(arr1.ndim, arr2.ndim)"
      ],
      "metadata": {
        "colab": {
          "base_uri": "https://localhost:8080/"
        },
        "id": "P2BMBIeeir34",
        "outputId": "82d87640-4124-4282-fe85-53c7d155d520"
      },
      "execution_count": 20,
      "outputs": [
        {
          "output_type": "stream",
          "name": "stdout",
          "text": [
            "1 2\n"
          ]
        }
      ]
    },
    {
      "cell_type": "code",
      "source": [
        "# size 원소 개수\n",
        "print(arr1.size, arr2.size)"
      ],
      "metadata": {
        "colab": {
          "base_uri": "https://localhost:8080/"
        },
        "id": "tZh2Q0DPjDJJ",
        "outputId": "8248c9e3-28fd-4327-b65c-aefc52b87bb3"
      },
      "execution_count": 22,
      "outputs": [
        {
          "output_type": "stream",
          "name": "stdout",
          "text": [
            "3 6\n"
          ]
        }
      ]
    },
    {
      "cell_type": "markdown",
      "source": [
        "## 1-2. N차원 배열의 데이터 타입"
      ],
      "metadata": {
        "id": "OX_finxsoJHa"
      }
    },
    {
      "cell_type": "code",
      "source": [
        "arr = np.array([1, 2, 3], dtype=float)\n",
        "print(arr, arr.dtype)"
      ],
      "metadata": {
        "colab": {
          "base_uri": "https://localhost:8080/"
        },
        "id": "vlXVTzuajHoI",
        "outputId": "0d050ca8-76e4-44fb-d668-e70dac35dd76"
      },
      "execution_count": 26,
      "outputs": [
        {
          "output_type": "stream",
          "name": "stdout",
          "text": [
            "[1. 2. 3.] float64\n"
          ]
        }
      ]
    },
    {
      "cell_type": "code",
      "source": [
        "arr = np.array([1, 2, 3], dtype=int)\n",
        "print(arr, arr.dtype)"
      ],
      "metadata": {
        "colab": {
          "base_uri": "https://localhost:8080/"
        },
        "id": "gswneXrXoTBE",
        "outputId": "d599af8b-3d08-4f7c-faf6-bee869105ac3"
      },
      "execution_count": 27,
      "outputs": [
        {
          "output_type": "stream",
          "name": "stdout",
          "text": [
            "[1 2 3] int64\n"
          ]
        }
      ]
    },
    {
      "cell_type": "code",
      "source": [
        "arr = np.array([0, 1, 1], dtype=bool)\n",
        "print(arr, arr.dtype)"
      ],
      "metadata": {
        "colab": {
          "base_uri": "https://localhost:8080/"
        },
        "id": "GbX7IhFtoow8",
        "outputId": "2ba7ec01-4a82-4fff-db9a-87699af73308"
      },
      "execution_count": 28,
      "outputs": [
        {
          "output_type": "stream",
          "name": "stdout",
          "text": [
            "[False  True  True] bool\n"
          ]
        }
      ]
    },
    {
      "cell_type": "code",
      "source": [
        "arr = np.array([0, 1, 2 ,3])\n",
        "print(arr, arr.dtype)\n",
        "\n",
        "arr = arr.astype(np.float32)\n",
        "print(arr, arr.dtype)"
      ],
      "metadata": {
        "colab": {
          "base_uri": "https://localhost:8080/"
        },
        "id": "Tsbweo9nosfs",
        "outputId": "4ec3bb02-b648-43f7-cc9f-fc57c076ead9"
      },
      "execution_count": 31,
      "outputs": [
        {
          "output_type": "stream",
          "name": "stdout",
          "text": [
            "[0 1 2 3] int64\n",
            "[0. 1. 2. 3.] float32\n"
          ]
        }
      ]
    },
    {
      "cell_type": "code",
      "source": [
        "# 데이터 타입이 혼재하는 경우\n",
        "arr = np.array([1, 2, 3.4])\n",
        "print(arr, arr.dtype)\n",
        "# 타입을 섞어서 넣었더니 모두 float64로 바뀌어서 출력됨"
      ],
      "metadata": {
        "colab": {
          "base_uri": "https://localhost:8080/"
        },
        "id": "QXpwAC4sovpl",
        "outputId": "3151b3ff-96d6-4809-9cd6-fa2661f66104"
      },
      "execution_count": 33,
      "outputs": [
        {
          "output_type": "stream",
          "name": "stdout",
          "text": [
            "[1.  2.  3.4] float64\n"
          ]
        }
      ]
    },
    {
      "cell_type": "code",
      "source": [
        "#arr = np.array([1, 2, 3.4, \"string\"], dtype=int)\n",
        "#print(arr, arr.dtype)\n",
        "# 문자열을 int로 변환할 수 없어서 에러 발생"
      ],
      "metadata": {
        "id": "yCTxDIkFo9xl"
      },
      "execution_count": 38,
      "outputs": []
    },
    {
      "cell_type": "markdown",
      "source": [
        "## 1-3. 정해진 형식의 N차원 배열 생성하기"
      ],
      "metadata": {
        "id": "nPA7aJoNpuPy"
      }
    },
    {
      "cell_type": "code",
      "source": [
        "# np.zeros() 모든 원소가 0으로 된 배열 생성\n",
        "arr = np.zeros([2, 2]) # 인자로 shape 입력\n",
        "print(arr)"
      ],
      "metadata": {
        "colab": {
          "base_uri": "https://localhost:8080/"
        },
        "id": "J1UnQIVLpP-7",
        "outputId": "c5fb4098-d431-430f-b22a-0ff1305a9c3d"
      },
      "execution_count": 40,
      "outputs": [
        {
          "output_type": "stream",
          "name": "stdout",
          "text": [
            "[[0. 0.]\n",
            " [0. 0.]]\n"
          ]
        }
      ]
    },
    {
      "cell_type": "code",
      "source": [
        "# np.ones() 모든 원소가 1로 된 배열 생성\n",
        "arr = np.ones([3, 5])\n",
        "print(arr)"
      ],
      "metadata": {
        "colab": {
          "base_uri": "https://localhost:8080/"
        },
        "id": "xRfvqx2Jp2Ql",
        "outputId": "71be6cd8-8eb4-4025-f919-329a672442f2"
      },
      "execution_count": 41,
      "outputs": [
        {
          "output_type": "stream",
          "name": "stdout",
          "text": [
            "[[1. 1. 1. 1. 1.]\n",
            " [1. 1. 1. 1. 1.]\n",
            " [1. 1. 1. 1. 1.]]\n"
          ]
        }
      ]
    },
    {
      "cell_type": "code",
      "source": [
        "# np.full() 모든 원소가 지정된 값으로 이루어진 배열 생성\n",
        "arr = np.full((2, 3), 5)\n",
        "print(arr)"
      ],
      "metadata": {
        "colab": {
          "base_uri": "https://localhost:8080/"
        },
        "id": "dqRMjWPNp8o-",
        "outputId": "7273e9ec-052f-4e39-ac7c-3c12d3f63d42"
      },
      "execution_count": 42,
      "outputs": [
        {
          "output_type": "stream",
          "name": "stdout",
          "text": [
            "[[5 5 5]\n",
            " [5 5 5]]\n"
          ]
        }
      ]
    },
    {
      "cell_type": "code",
      "source": [
        "# np.eye() 행을 n, 열을 m이라고 했을 때, n*m 행렬에서 대각선 원소가 1인 배열 생성(n값만 주면 정방행렬 생성)\n",
        "arr = np.eye(3, 4)\n",
        "print(\"arr\")\n",
        "print(arr)\n",
        "\n",
        "arr2 = np.eye(3, 4, k=1) # k값은 대각원소의 발생지점 지정 가능\n",
        "print(\"arr2\")\n",
        "print(arr2)\n",
        "\n",
        "arr3 = np.eye(3, 4, k=-1)\n",
        "print(\"arr3\")\n",
        "print(arr3)"
      ],
      "metadata": {
        "colab": {
          "base_uri": "https://localhost:8080/"
        },
        "id": "FlPf9_86qLAA",
        "outputId": "1033af20-de3d-4c11-a5af-63396f889204"
      },
      "execution_count": 51,
      "outputs": [
        {
          "output_type": "stream",
          "name": "stdout",
          "text": [
            "arr\n",
            "[[1. 0. 0. 0.]\n",
            " [0. 1. 0. 0.]\n",
            " [0. 0. 1. 0.]]\n",
            "arr2\n",
            "[[0. 1. 0. 0.]\n",
            " [0. 0. 1. 0.]\n",
            " [0. 0. 0. 1.]]\n",
            "arr3\n",
            "[[0. 0. 0. 0.]\n",
            " [1. 0. 0. 0.]\n",
            " [0. 1. 0. 0.]]\n"
          ]
        }
      ]
    },
    {
      "cell_type": "code",
      "source": [
        "# 지정된 행렬과 동일한 shape을 갖도록 함\n",
        "arr = np.array([[1, 2, 3],\n",
        "                [4, 5, 6]])\n",
        "\n",
        "# np.zeros_like()\n",
        "arr_z = np.zeros_like(arr)\n",
        "print(\"zeros_like\")\n",
        "print(arr_z)\n",
        "\n",
        "# np.ones_like()\n",
        "arr_o = np.ones_like(arr)\n",
        "print(\"ones_like\")\n",
        "print(arr_o)\n",
        "\n",
        "# np.full_like()\n",
        "arr_f = np.full_like(arr, 9)\n",
        "print(\"full_like\")\n",
        "print(arr_f)"
      ],
      "metadata": {
        "colab": {
          "base_uri": "https://localhost:8080/"
        },
        "id": "KE6Q8EN1qYU1",
        "outputId": "1b3a25b1-e80e-48aa-d9b9-5367f31d49b1"
      },
      "execution_count": 54,
      "outputs": [
        {
          "output_type": "stream",
          "name": "stdout",
          "text": [
            "zeros_like\n",
            "[[0 0 0]\n",
            " [0 0 0]]\n",
            "ones_like\n",
            "[[1 1 1]\n",
            " [1 1 1]]\n",
            "full_like\n",
            "[[9 9 9]\n",
            " [9 9 9]]\n"
          ]
        }
      ]
    },
    {
      "cell_type": "markdown",
      "source": [
        "## 1-4. 특정 범위의 값을 가지는 N차원 배열 생성하기"
      ],
      "metadata": {
        "id": "PD7Y9Nol-juJ"
      }
    },
    {
      "cell_type": "code",
      "source": [
        "lst = list(range(0, 9, 2))\n",
        "print(lst)"
      ],
      "metadata": {
        "colab": {
          "base_uri": "https://localhost:8080/"
        },
        "id": "Slz_VYeHrPd-",
        "outputId": "40230612-8f30-422a-c5a6-4cf273755b8a"
      },
      "execution_count": 55,
      "outputs": [
        {
          "output_type": "stream",
          "name": "stdout",
          "text": [
            "[0, 2, 4, 6, 8]\n"
          ]
        }
      ]
    },
    {
      "cell_type": "code",
      "source": [
        "# np.arange()\n",
        "arr = np.arange(9)\n",
        "print(arr)"
      ],
      "metadata": {
        "colab": {
          "base_uri": "https://localhost:8080/"
        },
        "id": "1xB5eQ8q-qVr",
        "outputId": "552d35c7-59d8-4415-cae9-54e87c544b8e"
      },
      "execution_count": 62,
      "outputs": [
        {
          "output_type": "stream",
          "name": "stdout",
          "text": [
            "[0 1 2 3 4 5 6 7 8]\n"
          ]
        }
      ]
    },
    {
      "cell_type": "code",
      "source": [
        "arr = np.arange(3, 12) # stop 값 미만\n",
        "print(arr)"
      ],
      "metadata": {
        "colab": {
          "base_uri": "https://localhost:8080/"
        },
        "id": "H33sfO9z-vXH",
        "outputId": "8e57476d-0ab7-4fc7-a8b1-d0ba9a271e46"
      },
      "execution_count": 63,
      "outputs": [
        {
          "output_type": "stream",
          "name": "stdout",
          "text": [
            "[ 3  4  5  6  7  8  9 10 11]\n"
          ]
        }
      ]
    },
    {
      "cell_type": "code",
      "source": [
        "arr = np.arange(3, 13, 3)\n",
        "print(arr)"
      ],
      "metadata": {
        "colab": {
          "base_uri": "https://localhost:8080/"
        },
        "id": "pWSGHVSg-zqg",
        "outputId": "369bbf2f-a939-4e58-f1cf-dc86b5960c3b"
      },
      "execution_count": 64,
      "outputs": [
        {
          "output_type": "stream",
          "name": "stdout",
          "text": [
            "[ 3  6  9 12]\n"
          ]
        }
      ]
    },
    {
      "cell_type": "code",
      "source": [
        "arr = np.arange(stop=9, step=2, start=0) # np.arange(0, 9, 2)\n",
        "print(arr)"
      ],
      "metadata": {
        "colab": {
          "base_uri": "https://localhost:8080/"
        },
        "id": "g3D775Cw-4uf",
        "outputId": "16c5168c-50ad-4da4-8092-775ae665eea6"
      },
      "execution_count": 65,
      "outputs": [
        {
          "output_type": "stream",
          "name": "stdout",
          "text": [
            "[0 2 4 6 8]\n"
          ]
        }
      ]
    },
    {
      "cell_type": "code",
      "source": [
        "# np.linspace()\n",
        "arr = np.linspace(0, 100, 11) # 0~100 사이의 11개의 원소를 균등한 간격으로 출력. stop 값 이하\n",
        "print(arr)"
      ],
      "metadata": {
        "colab": {
          "base_uri": "https://localhost:8080/"
        },
        "id": "NHkm8l7D_APH",
        "outputId": "130a81ce-73f7-4ac3-dcd6-601a580a4950"
      },
      "execution_count": 67,
      "outputs": [
        {
          "output_type": "stream",
          "name": "stdout",
          "text": [
            "[  0.  10.  20.  30.  40.  50.  60.  70.  80.  90. 100.]\n"
          ]
        }
      ]
    },
    {
      "cell_type": "code",
      "source": [
        "arr = np.linspace(0, 100, 250)\n",
        "print(arr)"
      ],
      "metadata": {
        "colab": {
          "base_uri": "https://localhost:8080/"
        },
        "id": "UT1KMn67_It_",
        "outputId": "efa10a9a-5d37-4616-e542-23563820ec90"
      },
      "execution_count": 68,
      "outputs": [
        {
          "output_type": "stream",
          "name": "stdout",
          "text": [
            "[  0.           0.40160643   0.80321285   1.20481928   1.6064257\n",
            "   2.00803213   2.40963855   2.81124498   3.21285141   3.61445783\n",
            "   4.01606426   4.41767068   4.81927711   5.22088353   5.62248996\n",
            "   6.02409639   6.42570281   6.82730924   7.22891566   7.63052209\n",
            "   8.03212851   8.43373494   8.83534137   9.23694779   9.63855422\n",
            "  10.04016064  10.44176707  10.84337349  11.24497992  11.64658635\n",
            "  12.04819277  12.4497992   12.85140562  13.25301205  13.65461847\n",
            "  14.0562249   14.45783133  14.85943775  15.26104418  15.6626506\n",
            "  16.06425703  16.46586345  16.86746988  17.26907631  17.67068273\n",
            "  18.07228916  18.47389558  18.87550201  19.27710843  19.67871486\n",
            "  20.08032129  20.48192771  20.88353414  21.28514056  21.68674699\n",
            "  22.08835341  22.48995984  22.89156627  23.29317269  23.69477912\n",
            "  24.09638554  24.49799197  24.89959839  25.30120482  25.70281124\n",
            "  26.10441767  26.5060241   26.90763052  27.30923695  27.71084337\n",
            "  28.1124498   28.51405622  28.91566265  29.31726908  29.7188755\n",
            "  30.12048193  30.52208835  30.92369478  31.3253012   31.72690763\n",
            "  32.12851406  32.53012048  32.93172691  33.33333333  33.73493976\n",
            "  34.13654618  34.53815261  34.93975904  35.34136546  35.74297189\n",
            "  36.14457831  36.54618474  36.94779116  37.34939759  37.75100402\n",
            "  38.15261044  38.55421687  38.95582329  39.35742972  39.75903614\n",
            "  40.16064257  40.562249    40.96385542  41.36546185  41.76706827\n",
            "  42.1686747   42.57028112  42.97188755  43.37349398  43.7751004\n",
            "  44.17670683  44.57831325  44.97991968  45.3815261   45.78313253\n",
            "  46.18473896  46.58634538  46.98795181  47.38955823  47.79116466\n",
            "  48.19277108  48.59437751  48.99598394  49.39759036  49.79919679\n",
            "  50.20080321  50.60240964  51.00401606  51.40562249  51.80722892\n",
            "  52.20883534  52.61044177  53.01204819  53.41365462  53.81526104\n",
            "  54.21686747  54.6184739   55.02008032  55.42168675  55.82329317\n",
            "  56.2248996   56.62650602  57.02811245  57.42971888  57.8313253\n",
            "  58.23293173  58.63453815  59.03614458  59.437751    59.83935743\n",
            "  60.24096386  60.64257028  61.04417671  61.44578313  61.84738956\n",
            "  62.24899598  62.65060241  63.05220884  63.45381526  63.85542169\n",
            "  64.25702811  64.65863454  65.06024096  65.46184739  65.86345382\n",
            "  66.26506024  66.66666667  67.06827309  67.46987952  67.87148594\n",
            "  68.27309237  68.6746988   69.07630522  69.47791165  69.87951807\n",
            "  70.2811245   70.68273092  71.08433735  71.48594378  71.8875502\n",
            "  72.28915663  72.69076305  73.09236948  73.4939759   73.89558233\n",
            "  74.29718876  74.69879518  75.10040161  75.50200803  75.90361446\n",
            "  76.30522088  76.70682731  77.10843373  77.51004016  77.91164659\n",
            "  78.31325301  78.71485944  79.11646586  79.51807229  79.91967871\n",
            "  80.32128514  80.72289157  81.12449799  81.52610442  81.92771084\n",
            "  82.32931727  82.73092369  83.13253012  83.53413655  83.93574297\n",
            "  84.3373494   84.73895582  85.14056225  85.54216867  85.9437751\n",
            "  86.34538153  86.74698795  87.14859438  87.5502008   87.95180723\n",
            "  88.35341365  88.75502008  89.15662651  89.55823293  89.95983936\n",
            "  90.36144578  90.76305221  91.16465863  91.56626506  91.96787149\n",
            "  92.36947791  92.77108434  93.17269076  93.57429719  93.97590361\n",
            "  94.37751004  94.77911647  95.18072289  95.58232932  95.98393574\n",
            "  96.38554217  96.78714859  97.18875502  97.59036145  97.99196787\n",
            "  98.3935743   98.79518072  99.19678715  99.59839357 100.        ]\n"
          ]
        }
      ]
    },
    {
      "cell_type": "code",
      "source": [
        "# np.logspace() log값 스케일의 linspace 메소드\n",
        "arr = np.linspace(1, 10, 10)\n",
        "print(arr, end=\"\\n\\n\")\n",
        "\n",
        "arr = np.logspace(1, 10, 10, base=2) # base는 log의 밑\n",
        "print(arr)"
      ],
      "metadata": {
        "colab": {
          "base_uri": "https://localhost:8080/"
        },
        "id": "JYIdMf5U_cBI",
        "outputId": "7c1a427c-a16d-456b-9f85-7fd2d9c05943"
      },
      "execution_count": 69,
      "outputs": [
        {
          "output_type": "stream",
          "name": "stdout",
          "text": [
            "[ 1.  2.  3.  4.  5.  6.  7.  8.  9. 10.]\n",
            "\n",
            "[   2.    4.    8.   16.   32.   64.  128.  256.  512. 1024.]\n"
          ]
        }
      ]
    },
    {
      "cell_type": "code",
      "source": [
        "arr = np.logspace(1, 10, 10) # base를 지정하지 않으면 상용로그 사용\n",
        "print(arr)"
      ],
      "metadata": {
        "colab": {
          "base_uri": "https://localhost:8080/"
        },
        "id": "FzFIGAOh_rSR",
        "outputId": "0a90e62d-022f-40af-eaaf-e109aaa2b4af"
      },
      "execution_count": 71,
      "outputs": [
        {
          "output_type": "stream",
          "name": "stdout",
          "text": [
            "[1.e+01 1.e+02 1.e+03 1.e+04 1.e+05 1.e+06 1.e+07 1.e+08 1.e+09 1.e+10]\n"
          ]
        }
      ]
    },
    {
      "cell_type": "markdown",
      "source": [
        "## 1-5. 난수로 N차원 배열 생성하기"
      ],
      "metadata": {
        "id": "yuTHw7-S_7TL"
      }
    },
    {
      "cell_type": "code",
      "source": [
        "import matplotlib.pyplot as plt"
      ],
      "metadata": {
        "id": "Y7_NgnRs_vuu"
      },
      "execution_count": 72,
      "outputs": []
    },
    {
      "cell_type": "code",
      "source": [
        "# np.random.normal()\n",
        "\n",
        "# arr = np.random.normal(loc:평균, scale:표준편차, size:추출할 표본의 개수)\n",
        "arr = np.random.normal(0, 1, 10)\n",
        "print(arr)"
      ],
      "metadata": {
        "colab": {
          "base_uri": "https://localhost:8080/"
        },
        "id": "mKdMI9uRADOc",
        "outputId": "c2924d65-1e40-445a-9d4f-c0674af45dce"
      },
      "execution_count": 73,
      "outputs": [
        {
          "output_type": "stream",
          "name": "stdout",
          "text": [
            "[-0.78264448  0.7623533   0.28351499 -0.08431513 -0.28936707  2.05328548\n",
            "  0.9962588  -0.54547161 -0.74316792 -0.56314239]\n"
          ]
        }
      ]
    },
    {
      "cell_type": "code",
      "source": [
        "# size를 shape으로 지정할 수 있음\n",
        "arr = np.random.normal(0, 1, (2, 3))\n",
        "print(arr)"
      ],
      "metadata": {
        "colab": {
          "base_uri": "https://localhost:8080/"
        },
        "id": "SKTD34Y-BWIb",
        "outputId": "d5d487cc-a4f4-461d-f637-977bdb332f7b"
      },
      "execution_count": 74,
      "outputs": [
        {
          "output_type": "stream",
          "name": "stdout",
          "text": [
            "[[ 1.3613336   0.77080137  1.23057334]\n",
            " [-0.07129408 -0.94191121 -0.28826333]]\n"
          ]
        }
      ]
    },
    {
      "cell_type": "code",
      "source": [
        "arr = np.random.normal(0, 1, 1000000)\n",
        "plt.hist(arr, bins=100)\n",
        "plt.show()"
      ],
      "metadata": {
        "colab": {
          "base_uri": "https://localhost:8080/",
          "height": 265
        },
        "id": "NwKK1qwsBcam",
        "outputId": "6fa19f87-c2fe-49d1-c600-0909dbbf4917"
      },
      "execution_count": 76,
      "outputs": [
        {
          "output_type": "display_data",
          "data": {
            "text/plain": [
              "<Figure size 432x288 with 1 Axes>"
            ],
            "image/png": "[encoded data removed]"
          },
          "metadata": {
            "needs_background": "light"
          }
        }
      ]
    },
    {
      "cell_type": "code",
      "source": [
        "# np.random.rand()\n",
        "# 0에서 1 사이의 값을 균등한 비율로 표본 추출\n",
        "\n",
        "arr = np.random.rand(1000)\n",
        "plt.hist(arr, bins=100)\n",
        "plt.show()"
      ],
      "metadata": {
        "colab": {
          "base_uri": "https://localhost:8080/",
          "height": 265
        },
        "id": "Nx94Kn6TBlR-",
        "outputId": "fcbe8253-29c5-4f5e-9dff-4d939e630dc6"
      },
      "execution_count": 78,
      "outputs": [
        {
          "output_type": "display_data",
          "data": {
            "text/plain": [
              "<Figure size 432x288 with 1 Axes>"
            ],
            "image/png": "[encoded data removed]"
          },
          "metadata": {
            "needs_background": "light"
          }
        }
      ]
    },
    {
      "cell_type": "code",
      "source": [
        "# np.random.randn()\n",
        "# -1부터 1 사이의 값을 정규분포(가우시안분포)의 표본 추출\n",
        "\n",
        "arr = np.random.randn(1000)\n",
        "plt.hist(arr, bins=100)\n",
        "plt.show()"
      ],
      "metadata": {
        "colab": {
          "base_uri": "https://localhost:8080/",
          "height": 265
        },
        "id": "4l9I8VimByTF",
        "outputId": "4745508e-ba4f-487f-8b9a-30a1c8a608d2"
      },
      "execution_count": 79,
      "outputs": [
        {
          "output_type": "display_data",
          "data": {
            "text/plain": [
              "<Figure size 432x288 with 1 Axes>"
            ],
            "image/png": "[encoded data removed]"
          },
          "metadata": {
            "needs_background": "light"
          }
        }
      ]
    },
    {
      "cell_type": "code",
      "source": [
        "# np.random.randint()\n",
        "# 정수 난수만 출력\n",
        "\n",
        "arr = np.random.randint(low=1, high=5, size=10) # low부터 high 미만까지 size만큼 배열 생성\n",
        "print(arr)"
      ],
      "metadata": {
        "colab": {
          "base_uri": "https://localhost:8080/"
        },
        "id": "fO9sIdGFB_dq",
        "outputId": "13203777-51ac-4535-b01e-c702c133a507"
      },
      "execution_count": 80,
      "outputs": [
        {
          "output_type": "stream",
          "name": "stdout",
          "text": [
            "[1 4 3 4 4 4 2 4 3 4]\n"
          ]
        }
      ]
    },
    {
      "cell_type": "code",
      "source": [
        "arr = np.random.randint(low=1, high=5, size=(3, 4))\n",
        "print(arr)"
      ],
      "metadata": {
        "colab": {
          "base_uri": "https://localhost:8080/"
        },
        "id": "s-HWKCc5CN8X",
        "outputId": "8fe394b6-d036-4c59-f534-02007fe4c592"
      },
      "execution_count": 81,
      "outputs": [
        {
          "output_type": "stream",
          "name": "stdout",
          "text": [
            "[[3 2 2 2]\n",
            " [2 1 3 2]\n",
            " [1 4 2 4]]\n"
          ]
        }
      ]
    },
    {
      "cell_type": "code",
      "source": [
        "arr = np.random.randint(5) # 인자 하나만 넣으면 high로 인식. 0부터 high까지 중 정수 하나 반환\n",
        "print(arr)"
      ],
      "metadata": {
        "colab": {
          "base_uri": "https://localhost:8080/"
        },
        "id": "VKK25Bd8CVFU",
        "outputId": "2fff59e0-52d4-4fc8-db37-d611824eb4b5"
      },
      "execution_count": 83,
      "outputs": [
        {
          "output_type": "stream",
          "name": "stdout",
          "text": [
            "4\n"
          ]
        }
      ]
    },
    {
      "cell_type": "code",
      "source": [
        "arr = np.random.randint(100, 200, 1000)\n",
        "plt.hist(arr, bins=100)\n",
        "plt.show()"
      ],
      "metadata": {
        "colab": {
          "base_uri": "https://localhost:8080/",
          "height": 265
        },
        "id": "uBnZSp2ZCfcl",
        "outputId": "5bf465f3-a1a2-433d-b85d-e08bd082413d"
      },
      "execution_count": 84,
      "outputs": [
        {
          "output_type": "display_data",
          "data": {
            "text/plain": [
              "<Figure size 432x288 with 1 Axes>"
            ],
            "image/png": "[encoded data removed]"
          },
          "metadata": {
            "needs_background": "light"
          }
        }
      ]
    },
    {
      "cell_type": "markdown",
      "source": [
        "## 1-6. 시드(Seed)값을 통한 난수 생성 제어"
      ],
      "metadata": {
        "id": "VpAlQHcPC2Z6"
      }
    },
    {
      "cell_type": "code",
      "source": [
        "# 난수는 특정 시작점으로부터 난수처럼 보이는 수열을 만드는 방식으로 동작함.\n",
        "# 시작점을 직접 설정하면 발생했던 난수 표본을 재현할 수 있고 이를 가능하게 하는 seed 함수가 존재함.\n",
        "\n",
        "arr = np.random.rand(10)\n",
        "print(\"난수 발생1 \\n\", arr)\n",
        "\n",
        "arr = np.random.rand(10)\n",
        "print(\"난수 발생2 \\n\", arr)"
      ],
      "metadata": {
        "colab": {
          "base_uri": "https://localhost:8080/"
        },
        "id": "yFYs8yAXCnh6",
        "outputId": "61aac274-b67a-4fbf-f241-cebd71630ed0"
      },
      "execution_count": 86,
      "outputs": [
        {
          "output_type": "stream",
          "name": "stdout",
          "text": [
            "난수 발생1 \n",
            " [0.31800196 0.17393517 0.70151217 0.17095494 0.85231595 0.39860716\n",
            " 0.5876038  0.28908514 0.00376416 0.67785376]\n",
            "난수 발생2 \n",
            " [0.67002614 0.99878295 0.90745664 0.04930748 0.33032331 0.21237346\n",
            " 0.73698676 0.87237698 0.68437801 0.59613784]\n"
          ]
        }
      ]
    },
    {
      "cell_type": "code",
      "source": [
        "# 위의 결과를 보면 1과 2에서 생성된 난수가 다름. seed를 이용해 시작 값을 고정할 수 있음.\n",
        "np.random.seed(1)\n",
        "arr = np.random.rand(10)\n",
        "print(\"난수 발생1 \\n\", arr)\n",
        "\n",
        "np.random.seed(1)\n",
        "arr = np.random.rand(10)\n",
        "print(\"난수 발생2 \\n\", arr)\n",
        "\n",
        "# 1과 2의 결과가 같음. seed 값은 난수를 생성하는 코드마다 지정해줘야 함."
      ],
      "metadata": {
        "colab": {
          "base_uri": "https://localhost:8080/"
        },
        "id": "E7Qo94l8DBCn",
        "outputId": "4ea2e364-8aa5-44b9-863b-bc461e10d6f5"
      },
      "execution_count": 90,
      "outputs": [
        {
          "output_type": "stream",
          "name": "stdout",
          "text": [
            "난수 발생1 \n",
            " [4.17022005e-01 7.20324493e-01 1.14374817e-04 3.02332573e-01\n",
            " 1.46755891e-01 9.23385948e-02 1.86260211e-01 3.45560727e-01\n",
            " 3.96767474e-01 5.38816734e-01]\n",
            "난수 발생2 \n",
            " [4.17022005e-01 7.20324493e-01 1.14374817e-04 3.02332573e-01\n",
            " 1.46755891e-01 9.23385948e-02 1.86260211e-01 3.45560727e-01\n",
            " 3.96767474e-01 5.38816734e-01]\n"
          ]
        }
      ]
    },
    {
      "cell_type": "code",
      "source": [],
      "metadata": {
        "id": "LW0uUNVrDb_y"
      },
      "execution_count": null,
      "outputs": []
    }
  ]
}