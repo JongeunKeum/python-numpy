{
  "nbformat": 4,
  "nbformat_minor": 0,
  "metadata": {
    "colab": {
      "provenance": [],
      "authorship_tag": "ABX9TyPSP08zzjJFADYEMXi31XaA",
      "include_colab_link": true
    },
    "kernelspec": {
      "name": "python3",
      "display_name": "Python 3"
    },
    "language_info": {
      "name": "python"
    }
  },
  "cells": [
    {
      "cell_type": "markdown",
      "metadata": {
        "id": "view-in-github",
        "colab_type": "text"
      },
      "source": [
        "<a href=\"https://colab.research.google.com/github/JongeunKeum/python-numpy/blob/main/Section01.ipynb\" target=\"_parent\"><img src=\"https://colab.research.google.com/assets/colab-badge.svg\" alt=\"Open In Colab\"/></a>"
      ]
    },
    {
      "cell_type": "code",
      "source": [
        "import numpy as np"
      ],
      "metadata": {
        "id": "7K5HIrSzhO7R"
      },
      "execution_count": 4,
      "outputs": []
    },
    {
      "cell_type": "markdown",
      "source": [
        "# Section 1. N차원 배열 생성"
      ],
      "metadata": {
        "id": "a3xEHIlhh33g"
      }
    },
    {
      "cell_type": "markdown",
      "source": [
        "## 1-1. N차원 배열(ndarray) 생성하기"
      ],
      "metadata": {
        "id": "y9ZNNrNfh7YW"
      }
    },
    {
      "cell_type": "code",
      "source": [
        "# 1차원 배열\n",
        "arr = np.array([1, 2, 3])\n",
        "print(arr)\n",
        "\n",
        "# 2차원 배열\n",
        "arr2 = np.array([[1, 2, 3],\n",
        "                 [4, 5, 6]])\n",
        "print(arr2)"
      ],
      "metadata": {
        "colab": {
          "base_uri": "https://localhost:8080/"
        },
        "id": "BwXT1c2ShhKS",
        "outputId": "728ccadf-a89f-4399-886d-fa6d3c60619b"
      },
      "execution_count": 7,
      "outputs": [
        {
          "output_type": "stream",
          "name": "stdout",
          "text": [
            "[1 2 3]\n",
            "[[1 2 3]\n",
            " [4 5 6]]\n"
          ]
        }
      ]
    },
    {
      "cell_type": "code",
      "source": [
        "type([1, 2, 3])"
      ],
      "metadata": {
        "colab": {
          "base_uri": "https://localhost:8080/"
        },
        "id": "4zD6YInliC8E",
        "outputId": "ff2691f3-0b24-498f-aa4a-0b1f97e6394b"
      },
      "execution_count": 11,
      "outputs": [
        {
          "output_type": "execute_result",
          "data": {
            "text/plain": [
              "list"
            ]
          },
          "metadata": {},
          "execution_count": 11
        }
      ]
    },
    {
      "cell_type": "code",
      "source": [
        "type(arr)"
      ],
      "metadata": {
        "colab": {
          "base_uri": "https://localhost:8080/"
        },
        "id": "DxTt3HgSiO_U",
        "outputId": "a0769a66-e2c9-4b3f-abfa-2409018710b1"
      },
      "execution_count": 12,
      "outputs": [
        {
          "output_type": "execute_result",
          "data": {
            "text/plain": [
              "numpy.ndarray"
            ]
          },
          "metadata": {},
          "execution_count": 12
        }
      ]
    },
    {
      "cell_type": "code",
      "source": [
        "tpl = (4, 5, 6)\n",
        "arr = np.array(tpl)\n",
        "print(arr)"
      ],
      "metadata": {
        "colab": {
          "base_uri": "https://localhost:8080/"
        },
        "id": "K_KxnAvXiXSs",
        "outputId": "e3986832-5f00-4d12-a379-0288a3bee20f"
      },
      "execution_count": 13,
      "outputs": [
        {
          "output_type": "stream",
          "name": "stdout",
          "text": [
            "[4 5 6]\n"
          ]
        }
      ]
    },
    {
      "cell_type": "code",
      "source": [
        "lst = [1, 2, 3]\n",
        "arr = np.array(lst)\n",
        "print(arr)"
      ],
      "metadata": {
        "colab": {
          "base_uri": "https://localhost:8080/"
        },
        "id": "fB3033cOicDU",
        "outputId": "21ff4c0e-e25d-42df-ef85-c76d5909bda6"
      },
      "execution_count": 15,
      "outputs": [
        {
          "output_type": "stream",
          "name": "stdout",
          "text": [
            "[1 2 3]\n"
          ]
        }
      ]
    },
    {
      "cell_type": "code",
      "source": [
        "lst2 = [[1, 2, 3], [4, 5, 6]]\n",
        "arr2 = np.array(lst2)\n",
        "print(arr2)"
      ],
      "metadata": {
        "colab": {
          "base_uri": "https://localhost:8080/"
        },
        "id": "iY_UWcjfidIR",
        "outputId": "c5b0ff6a-4b2f-4300-c56c-6ac8c12a7478"
      },
      "execution_count": 16,
      "outputs": [
        {
          "output_type": "stream",
          "name": "stdout",
          "text": [
            "[[1 2 3]\n",
            " [4 5 6]]\n"
          ]
        }
      ]
    },
    {
      "cell_type": "code",
      "source": [
        "# shape\n",
        "arr1 = np.array([1, 2, 3])\n",
        "arr2 = np.array([[1, 2, 3], [4, 5, 6]])\n",
        "print(arr1.shape, arr2.shape) # arr1은 원소가 3개인 1차원 배열, arr2는 행이 2개, 열이 3개인 2차원 array"
      ],
      "metadata": {
        "colab": {
          "base_uri": "https://localhost:8080/"
        },
        "id": "NnR5L6clijXO",
        "outputId": "ef88402e-131e-4e04-eb8d-d13a34081b88"
      },
      "execution_count": 19,
      "outputs": [
        {
          "output_type": "stream",
          "name": "stdout",
          "text": [
            "(3,) (2, 3)\n"
          ]
        }
      ]
    },
    {
      "cell_type": "code",
      "source": [
        "# ndim 차원 표시\n",
        "print(arr1.ndim, arr2.ndim)"
      ],
      "metadata": {
        "colab": {
          "base_uri": "https://localhost:8080/"
        },
        "id": "P2BMBIeeir34",
        "outputId": "82d87640-4124-4282-fe85-53c7d155d520"
      },
      "execution_count": 20,
      "outputs": [
        {
          "output_type": "stream",
          "name": "stdout",
          "text": [
            "1 2\n"
          ]
        }
      ]
    },
    {
      "cell_type": "code",
      "source": [
        "# size 원소 개수\n",
        "print(arr1.size, arr2.size)"
      ],
      "metadata": {
        "colab": {
          "base_uri": "https://localhost:8080/"
        },
        "id": "tZh2Q0DPjDJJ",
        "outputId": "8248c9e3-28fd-4327-b65c-aefc52b87bb3"
      },
      "execution_count": 22,
      "outputs": [
        {
          "output_type": "stream",
          "name": "stdout",
          "text": [
            "3 6\n"
          ]
        }
      ]
    },
    {
      "cell_type": "markdown",
      "source": [
        "## 1-2. N차원 배열의 데이터 타입"
      ],
      "metadata": {
        "id": "OX_finxsoJHa"
      }
    },
    {
      "cell_type": "code",
      "source": [
        "arr = np.array([1, 2, 3], dtype=float)\n",
        "print(arr, arr.dtype)"
      ],
      "metadata": {
        "colab": {
          "base_uri": "https://localhost:8080/"
        },
        "id": "vlXVTzuajHoI",
        "outputId": "0d050ca8-76e4-44fb-d668-e70dac35dd76"
      },
      "execution_count": 26,
      "outputs": [
        {
          "output_type": "stream",
          "name": "stdout",
          "text": [
            "[1. 2. 3.] float64\n"
          ]
        }
      ]
    },
    {
      "cell_type": "code",
      "source": [
        "arr = np.array([1, 2, 3], dtype=int)\n",
        "print(arr, arr.dtype)"
      ],
      "metadata": {
        "colab": {
          "base_uri": "https://localhost:8080/"
        },
        "id": "gswneXrXoTBE",
        "outputId": "d599af8b-3d08-4f7c-faf6-bee869105ac3"
      },
      "execution_count": 27,
      "outputs": [
        {
          "output_type": "stream",
          "name": "stdout",
          "text": [
            "[1 2 3] int64\n"
          ]
        }
      ]
    },
    {
      "cell_type": "code",
      "source": [
        "arr = np.array([0, 1, 1], dtype=bool)\n",
        "print(arr, arr.dtype)"
      ],
      "metadata": {
        "colab": {
          "base_uri": "https://localhost:8080/"
        },
        "id": "GbX7IhFtoow8",
        "outputId": "2ba7ec01-4a82-4fff-db9a-87699af73308"
      },
      "execution_count": 28,
      "outputs": [
        {
          "output_type": "stream",
          "name": "stdout",
          "text": [
            "[False  True  True] bool\n"
          ]
        }
      ]
    },
    {
      "cell_type": "code",
      "source": [
        "arr = np.array([0, 1, 2 ,3])\n",
        "print(arr, arr.dtype)\n",
        "\n",
        "arr = arr.astype(np.float32)\n",
        "print(arr, arr.dtype)"
      ],
      "metadata": {
        "colab": {
          "base_uri": "https://localhost:8080/"
        },
        "id": "Tsbweo9nosfs",
        "outputId": "4ec3bb02-b648-43f7-cc9f-fc57c076ead9"
      },
      "execution_count": 31,
      "outputs": [
        {
          "output_type": "stream",
          "name": "stdout",
          "text": [
            "[0 1 2 3] int64\n",
            "[0. 1. 2. 3.] float32\n"
          ]
        }
      ]
    },
    {
      "cell_type": "code",
      "source": [
        "# 데이터 타입이 혼재하는 경우\n",
        "arr = np.array([1, 2, 3.4])\n",
        "print(arr, arr.dtype)\n",
        "# 타입을 섞어서 넣었더니 모두 float64로 바뀌어서 출력됨"
      ],
      "metadata": {
        "colab": {
          "base_uri": "https://localhost:8080/"
        },
        "id": "QXpwAC4sovpl",
        "outputId": "3151b3ff-96d6-4809-9cd6-fa2661f66104"
      },
      "execution_count": 33,
      "outputs": [
        {
          "output_type": "stream",
          "name": "stdout",
          "text": [
            "[1.  2.  3.4] float64\n"
          ]
        }
      ]
    },
    {
      "cell_type": "code",
      "source": [
        "arr = np.array([1, 2, 3.4, \"string\"], dtype=int)\n",
        "print(arr, arr.dtype)\n",
        "# 문자열을 int로 변환할 수 없어서 에러 발생"
      ],
      "metadata": {
        "colab": {
          "base_uri": "https://localhost:8080/",
          "height": 205
        },
        "id": "yCTxDIkFo9xl",
        "outputId": "9dba4116-f9db-4ab5-f1fe-7a7e1491aff4"
      },
      "execution_count": 36,
      "outputs": [
        {
          "output_type": "error",
          "ename": "ValueError",
          "evalue": "ignored",
          "traceback": [
            "\u001b[0;31m---------------------------------------------------------------------------\u001b[0m",
            "\u001b[0;31mValueError\u001b[0m                                Traceback (most recent call last)",
            "\u001b[0;32m<ipython-input-36-782dc701db54>\u001b[0m in \u001b[0;36m<module>\u001b[0;34m\u001b[0m\n\u001b[0;32m----> 1\u001b[0;31m \u001b[0marr\u001b[0m \u001b[0;34m=\u001b[0m \u001b[0mnp\u001b[0m\u001b[0;34m.\u001b[0m\u001b[0marray\u001b[0m\u001b[0;34m(\u001b[0m\u001b[0;34m[\u001b[0m\u001b[0;36m1\u001b[0m\u001b[0;34m,\u001b[0m \u001b[0;36m2\u001b[0m\u001b[0;34m,\u001b[0m \u001b[0;36m3.4\u001b[0m\u001b[0;34m,\u001b[0m \u001b[0;34m\"string\"\u001b[0m\u001b[0;34m]\u001b[0m\u001b[0;34m,\u001b[0m \u001b[0mdtype\u001b[0m\u001b[0;34m=\u001b[0m\u001b[0mint\u001b[0m\u001b[0;34m)\u001b[0m\u001b[0;34m\u001b[0m\u001b[0;34m\u001b[0m\u001b[0m\n\u001b[0m\u001b[1;32m      2\u001b[0m \u001b[0mprint\u001b[0m\u001b[0;34m(\u001b[0m\u001b[0marr\u001b[0m\u001b[0;34m,\u001b[0m \u001b[0marr\u001b[0m\u001b[0;34m.\u001b[0m\u001b[0mdtype\u001b[0m\u001b[0;34m)\u001b[0m\u001b[0;34m\u001b[0m\u001b[0;34m\u001b[0m\u001b[0m\n\u001b[1;32m      3\u001b[0m \u001b[0;31m# 문자열을 int로 변환할 수 없어서 에러 발생\u001b[0m\u001b[0;34m\u001b[0m\u001b[0;34m\u001b[0m\u001b[0;34m\u001b[0m\u001b[0m\n",
            "\u001b[0;31mValueError\u001b[0m: invalid literal for int() with base 10: 'string'"
          ]
        }
      ]
    },
    {
      "cell_type": "code",
      "source": [],
      "metadata": {
        "id": "J1UnQIVLpP-7"
      },
      "execution_count": null,
      "outputs": []
    }
  ]
}