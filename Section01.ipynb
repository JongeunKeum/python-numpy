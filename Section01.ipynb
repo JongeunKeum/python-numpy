{
  "nbformat": 4,
  "nbformat_minor": 0,
  "metadata": {
    "colab": {
      "provenance": [],
      "authorship_tag": "ABX9TyNY0gtOC0BT6M4kwpIJxf6i",
      "include_colab_link": true
    },
    "kernelspec": {
      "name": "python3",
      "display_name": "Python 3"
    },
    "language_info": {
      "name": "python"
    }
  },
  "cells": [
    {
      "cell_type": "markdown",
      "metadata": {
        "id": "view-in-github",
        "colab_type": "text"
      },
      "source": [
        "<a href=\"https://colab.research.google.com/github/JongeunKeum/python-numpy/blob/main/Section01.ipynb\" target=\"_parent\"><img src=\"https://colab.research.google.com/assets/colab-badge.svg\" alt=\"Open In Colab\"/></a>"
      ]
    },
    {
      "cell_type": "code",
      "source": [
        "import numpy as np"
      ],
      "metadata": {
        "id": "7K5HIrSzhO7R"
      },
      "execution_count": 4,
      "outputs": []
    },
    {
      "cell_type": "markdown",
      "source": [
        "# Section 1. N차원 배열 생성"
      ],
      "metadata": {
        "id": "a3xEHIlhh33g"
      }
    },
    {
      "cell_type": "markdown",
      "source": [
        "## 1-1. N차원 배열(ndarray) 생성하기"
      ],
      "metadata": {
        "id": "y9ZNNrNfh7YW"
      }
    },
    {
      "cell_type": "code",
      "source": [
        "# 1차원 배열\n",
        "arr = np.array([1, 2, 3])\n",
        "print(arr)\n",
        "\n",
        "# 2차원 배열\n",
        "arr2 = np.array([[1, 2, 3],\n",
        "                 [4, 5, 6]])\n",
        "print(arr2)"
      ],
      "metadata": {
        "colab": {
          "base_uri": "https://localhost:8080/"
        },
        "id": "BwXT1c2ShhKS",
        "outputId": "728ccadf-a89f-4399-886d-fa6d3c60619b"
      },
      "execution_count": 7,
      "outputs": [
        {
          "output_type": "stream",
          "name": "stdout",
          "text": [
            "[1 2 3]\n",
            "[[1 2 3]\n",
            " [4 5 6]]\n"
          ]
        }
      ]
    },
    {
      "cell_type": "code",
      "source": [
        "type([1, 2, 3])"
      ],
      "metadata": {
        "colab": {
          "base_uri": "https://localhost:8080/"
        },
        "id": "4zD6YInliC8E",
        "outputId": "ff2691f3-0b24-498f-aa4a-0b1f97e6394b"
      },
      "execution_count": 11,
      "outputs": [
        {
          "output_type": "execute_result",
          "data": {
            "text/plain": [
              "list"
            ]
          },
          "metadata": {},
          "execution_count": 11
        }
      ]
    },
    {
      "cell_type": "code",
      "source": [
        "type(arr)"
      ],
      "metadata": {
        "colab": {
          "base_uri": "https://localhost:8080/"
        },
        "id": "DxTt3HgSiO_U",
        "outputId": "a0769a66-e2c9-4b3f-abfa-2409018710b1"
      },
      "execution_count": 12,
      "outputs": [
        {
          "output_type": "execute_result",
          "data": {
            "text/plain": [
              "numpy.ndarray"
            ]
          },
          "metadata": {},
          "execution_count": 12
        }
      ]
    },
    {
      "cell_type": "code",
      "source": [
        "tpl = (4, 5, 6)\n",
        "arr = np.array(tpl)\n",
        "print(arr)"
      ],
      "metadata": {
        "colab": {
          "base_uri": "https://localhost:8080/"
        },
        "id": "K_KxnAvXiXSs",
        "outputId": "e3986832-5f00-4d12-a379-0288a3bee20f"
      },
      "execution_count": 13,
      "outputs": [
        {
          "output_type": "stream",
          "name": "stdout",
          "text": [
            "[4 5 6]\n"
          ]
        }
      ]
    },
    {
      "cell_type": "code",
      "source": [
        "lst = [1, 2, 3]\n",
        "arr = np.array(lst)\n",
        "print(arr)"
      ],
      "metadata": {
        "colab": {
          "base_uri": "https://localhost:8080/"
        },
        "id": "fB3033cOicDU",
        "outputId": "21ff4c0e-e25d-42df-ef85-c76d5909bda6"
      },
      "execution_count": 15,
      "outputs": [
        {
          "output_type": "stream",
          "name": "stdout",
          "text": [
            "[1 2 3]\n"
          ]
        }
      ]
    },
    {
      "cell_type": "code",
      "source": [
        "lst2 = [[1, 2, 3], [4, 5, 6]]\n",
        "arr2 = np.array(lst2)\n",
        "print(arr2)"
      ],
      "metadata": {
        "colab": {
          "base_uri": "https://localhost:8080/"
        },
        "id": "iY_UWcjfidIR",
        "outputId": "c5b0ff6a-4b2f-4300-c56c-6ac8c12a7478"
      },
      "execution_count": 16,
      "outputs": [
        {
          "output_type": "stream",
          "name": "stdout",
          "text": [
            "[[1 2 3]\n",
            " [4 5 6]]\n"
          ]
        }
      ]
    },
    {
      "cell_type": "code",
      "source": [
        "# shape\n",
        "arr1 = np.array([1, 2, 3])\n",
        "arr2 = np.array([[1, 2, 3], [4, 5, 6]])\n",
        "print(arr1.shape, arr2.shape) # arr1은 원소가 3개인 1차원 배열, arr2는 행이 2개, 열이 3개인 2차원 array"
      ],
      "metadata": {
        "colab": {
          "base_uri": "https://localhost:8080/"
        },
        "id": "NnR5L6clijXO",
        "outputId": "ef88402e-131e-4e04-eb8d-d13a34081b88"
      },
      "execution_count": 19,
      "outputs": [
        {
          "output_type": "stream",
          "name": "stdout",
          "text": [
            "(3,) (2, 3)\n"
          ]
        }
      ]
    },
    {
      "cell_type": "code",
      "source": [
        "# ndim 차원 표시\n",
        "print(arr1.ndim, arr2.ndim)"
      ],
      "metadata": {
        "colab": {
          "base_uri": "https://localhost:8080/"
        },
        "id": "P2BMBIeeir34",
        "outputId": "82d87640-4124-4282-fe85-53c7d155d520"
      },
      "execution_count": 20,
      "outputs": [
        {
          "output_type": "stream",
          "name": "stdout",
          "text": [
            "1 2\n"
          ]
        }
      ]
    },
    {
      "cell_type": "code",
      "source": [
        "# size 원소 개수\n",
        "print(arr1.size, arr2.size)"
      ],
      "metadata": {
        "colab": {
          "base_uri": "https://localhost:8080/"
        },
        "id": "tZh2Q0DPjDJJ",
        "outputId": "8248c9e3-28fd-4327-b65c-aefc52b87bb3"
      },
      "execution_count": 22,
      "outputs": [
        {
          "output_type": "stream",
          "name": "stdout",
          "text": [
            "3 6\n"
          ]
        }
      ]
    },
    {
      "cell_type": "markdown",
      "source": [
        "## 1-2. N차원 배열의 데이터 타입"
      ],
      "metadata": {
        "id": "OX_finxsoJHa"
      }
    },
    {
      "cell_type": "code",
      "source": [
        "arr = np.array([1, 2, 3], dtype=float)\n",
        "print(arr, arr.dtype)"
      ],
      "metadata": {
        "colab": {
          "base_uri": "https://localhost:8080/"
        },
        "id": "vlXVTzuajHoI",
        "outputId": "0d050ca8-76e4-44fb-d668-e70dac35dd76"
      },
      "execution_count": 26,
      "outputs": [
        {
          "output_type": "stream",
          "name": "stdout",
          "text": [
            "[1. 2. 3.] float64\n"
          ]
        }
      ]
    },
    {
      "cell_type": "code",
      "source": [
        "arr = np.array([1, 2, 3], dtype=int)\n",
        "print(arr, arr.dtype)"
      ],
      "metadata": {
        "colab": {
          "base_uri": "https://localhost:8080/"
        },
        "id": "gswneXrXoTBE",
        "outputId": "d599af8b-3d08-4f7c-faf6-bee869105ac3"
      },
      "execution_count": 27,
      "outputs": [
        {
          "output_type": "stream",
          "name": "stdout",
          "text": [
            "[1 2 3] int64\n"
          ]
        }
      ]
    },
    {
      "cell_type": "code",
      "source": [
        "arr = np.array([0, 1, 1], dtype=bool)\n",
        "print(arr, arr.dtype)"
      ],
      "metadata": {
        "colab": {
          "base_uri": "https://localhost:8080/"
        },
        "id": "GbX7IhFtoow8",
        "outputId": "2ba7ec01-4a82-4fff-db9a-87699af73308"
      },
      "execution_count": 28,
      "outputs": [
        {
          "output_type": "stream",
          "name": "stdout",
          "text": [
            "[False  True  True] bool\n"
          ]
        }
      ]
    },
    {
      "cell_type": "code",
      "source": [
        "arr = np.array([0, 1, 2 ,3])\n",
        "print(arr, arr.dtype)\n",
        "\n",
        "arr = arr.astype(np.float32)\n",
        "print(arr, arr.dtype)"
      ],
      "metadata": {
        "colab": {
          "base_uri": "https://localhost:8080/"
        },
        "id": "Tsbweo9nosfs",
        "outputId": "4ec3bb02-b648-43f7-cc9f-fc57c076ead9"
      },
      "execution_count": 31,
      "outputs": [
        {
          "output_type": "stream",
          "name": "stdout",
          "text": [
            "[0 1 2 3] int64\n",
            "[0. 1. 2. 3.] float32\n"
          ]
        }
      ]
    },
    {
      "cell_type": "code",
      "source": [
        "# 데이터 타입이 혼재하는 경우\n",
        "arr = np.array([1, 2, 3.4])\n",
        "print(arr, arr.dtype)\n",
        "# 타입을 섞어서 넣었더니 모두 float64로 바뀌어서 출력됨"
      ],
      "metadata": {
        "colab": {
          "base_uri": "https://localhost:8080/"
        },
        "id": "QXpwAC4sovpl",
        "outputId": "3151b3ff-96d6-4809-9cd6-fa2661f66104"
      },
      "execution_count": 33,
      "outputs": [
        {
          "output_type": "stream",
          "name": "stdout",
          "text": [
            "[1.  2.  3.4] float64\n"
          ]
        }
      ]
    },
    {
      "cell_type": "code",
      "source": [
        "#arr = np.array([1, 2, 3.4, \"string\"], dtype=int)\n",
        "#print(arr, arr.dtype)\n",
        "# 문자열을 int로 변환할 수 없어서 에러 발생"
      ],
      "metadata": {
        "id": "yCTxDIkFo9xl"
      },
      "execution_count": 38,
      "outputs": []
    },
    {
      "cell_type": "markdown",
      "source": [
        "## 1-3. 정해진 형식의 N차원 배열 생성하기"
      ],
      "metadata": {
        "id": "nPA7aJoNpuPy"
      }
    },
    {
      "cell_type": "code",
      "source": [
        "# np.zeros() 모든 원소가 0으로 된 배열 생성\n",
        "arr = np.zeros([2, 2]) # 인자로 shape 입력\n",
        "print(arr)"
      ],
      "metadata": {
        "colab": {
          "base_uri": "https://localhost:8080/"
        },
        "id": "J1UnQIVLpP-7",
        "outputId": "c5fb4098-d431-430f-b22a-0ff1305a9c3d"
      },
      "execution_count": 40,
      "outputs": [
        {
          "output_type": "stream",
          "name": "stdout",
          "text": [
            "[[0. 0.]\n",
            " [0. 0.]]\n"
          ]
        }
      ]
    },
    {
      "cell_type": "code",
      "source": [
        "# np.ones() 모든 원소가 1로 된 배열 생성\n",
        "arr = np.ones([3, 5])\n",
        "print(arr)"
      ],
      "metadata": {
        "colab": {
          "base_uri": "https://localhost:8080/"
        },
        "id": "xRfvqx2Jp2Ql",
        "outputId": "71be6cd8-8eb4-4025-f919-329a672442f2"
      },
      "execution_count": 41,
      "outputs": [
        {
          "output_type": "stream",
          "name": "stdout",
          "text": [
            "[[1. 1. 1. 1. 1.]\n",
            " [1. 1. 1. 1. 1.]\n",
            " [1. 1. 1. 1. 1.]]\n"
          ]
        }
      ]
    },
    {
      "cell_type": "code",
      "source": [
        "# np.full() 모든 원소가 지정된 값으로 이루어진 배열 생성\n",
        "arr = np.full((2, 3), 5)\n",
        "print(arr)"
      ],
      "metadata": {
        "colab": {
          "base_uri": "https://localhost:8080/"
        },
        "id": "dqRMjWPNp8o-",
        "outputId": "7273e9ec-052f-4e39-ac7c-3c12d3f63d42"
      },
      "execution_count": 42,
      "outputs": [
        {
          "output_type": "stream",
          "name": "stdout",
          "text": [
            "[[5 5 5]\n",
            " [5 5 5]]\n"
          ]
        }
      ]
    },
    {
      "cell_type": "code",
      "source": [
        "# np.eye() 행을 n, 열을 m이라고 했을 때, n*m 행렬에서 대각선 원소가 1인 배열 생성(n값만 주면 정방행렬 생성)\n",
        "arr = np.eye(3, 4)\n",
        "print(\"arr\")\n",
        "print(arr)\n",
        "\n",
        "arr2 = np.eye(3, 4, k=1) # k값은 대각원소의 발생지점 지정 가능\n",
        "print(\"arr2\")\n",
        "print(arr2)\n",
        "\n",
        "arr3 = np.eye(3, 4, k=-1)\n",
        "print(\"arr3\")\n",
        "print(arr3)"
      ],
      "metadata": {
        "colab": {
          "base_uri": "https://localhost:8080/"
        },
        "id": "FlPf9_86qLAA",
        "outputId": "1033af20-de3d-4c11-a5af-63396f889204"
      },
      "execution_count": 51,
      "outputs": [
        {
          "output_type": "stream",
          "name": "stdout",
          "text": [
            "arr\n",
            "[[1. 0. 0. 0.]\n",
            " [0. 1. 0. 0.]\n",
            " [0. 0. 1. 0.]]\n",
            "arr2\n",
            "[[0. 1. 0. 0.]\n",
            " [0. 0. 1. 0.]\n",
            " [0. 0. 0. 1.]]\n",
            "arr3\n",
            "[[0. 0. 0. 0.]\n",
            " [1. 0. 0. 0.]\n",
            " [0. 1. 0. 0.]]\n"
          ]
        }
      ]
    },
    {
      "cell_type": "code",
      "source": [
        "# 지정된 행렬과 동일한 shape을 갖도록 함\n",
        "arr = np.array([[1, 2, 3],\n",
        "                [4, 5, 6]])\n",
        "\n",
        "# np.zeros_like()\n",
        "arr_z = np.zeros_like(arr)\n",
        "print(\"zeros_like\")\n",
        "print(arr_z)\n",
        "\n",
        "# np.ones_like()\n",
        "arr_o = np.ones_like(arr)\n",
        "print(\"ones_like\")\n",
        "print(arr_o)\n",
        "\n",
        "# np.full_like()\n",
        "arr_f = np.full_like(arr, 9)\n",
        "print(\"full_like\")\n",
        "print(arr_f)"
      ],
      "metadata": {
        "colab": {
          "base_uri": "https://localhost:8080/"
        },
        "id": "KE6Q8EN1qYU1",
        "outputId": "1b3a25b1-e80e-48aa-d9b9-5367f31d49b1"
      },
      "execution_count": 54,
      "outputs": [
        {
          "output_type": "stream",
          "name": "stdout",
          "text": [
            "zeros_like\n",
            "[[0 0 0]\n",
            " [0 0 0]]\n",
            "ones_like\n",
            "[[1 1 1]\n",
            " [1 1 1]]\n",
            "full_like\n",
            "[[9 9 9]\n",
            " [9 9 9]]\n"
          ]
        }
      ]
    },
    {
      "cell_type": "code",
      "source": [],
      "metadata": {
        "id": "Slz_VYeHrPd-"
      },
      "execution_count": null,
      "outputs": []
    }
  ]
}