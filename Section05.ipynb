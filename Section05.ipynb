{
  "nbformat": 4,
  "nbformat_minor": 0,
  "metadata": {
    "colab": {
      "provenance": [],
      "authorship_tag": "ABX9TyNINaWHC0uKKBxVRQ4goVdJ",
      "include_colab_link": true
    },
    "kernelspec": {
      "name": "python3",
      "display_name": "Python 3"
    },
    "language_info": {
      "name": "python"
    }
  },
  "cells": [
    {
      "cell_type": "markdown",
      "metadata": {
        "id": "view-in-github",
        "colab_type": "text"
      },
      "source": [
        "<a href=\"https://colab.research.google.com/github/JongeunKeum/python-numpy/blob/main/Section05.ipynb\" target=\"_parent\"><img src=\"https://colab.research.google.com/assets/colab-badge.svg\" alt=\"Open In Colab\"/></a>"
      ]
    },
    {
      "cell_type": "code",
      "execution_count": 1,
      "metadata": {
        "id": "r4QUfFoejk4a"
      },
      "outputs": [],
      "source": [
        "import numpy as np"
      ]
    },
    {
      "cell_type": "markdown",
      "source": [
        "# Section 5. N차원 배열의 형태 변경"
      ],
      "metadata": {
        "id": "eSoOy3V0jo3k"
      }
    },
    {
      "cell_type": "markdown",
      "source": [
        "## 5-1. 배열의 형태 변경 1: reshape()"
      ],
      "metadata": {
        "id": "0_B1ZVdjjrmD"
      }
    },
    {
      "cell_type": "code",
      "source": [
        "arr = np.arange(12)\n",
        "print(arr, arr.ndim)"
      ],
      "metadata": {
        "colab": {
          "base_uri": "https://localhost:8080/"
        },
        "id": "ZARq-sHWjof9",
        "outputId": "36f90432-8a64-4775-e864-fe0885ce1b81"
      },
      "execution_count": 3,
      "outputs": [
        {
          "output_type": "stream",
          "name": "stdout",
          "text": [
            "[ 0  1  2  3  4  5  6  7  8  9 10 11] 1\n"
          ]
        }
      ]
    },
    {
      "cell_type": "code",
      "source": [
        "arr = arr.reshape((3, 4))   # 원소의 개수가 맞아야 함\n",
        "print(arr, arr.ndim)"
      ],
      "metadata": {
        "colab": {
          "base_uri": "https://localhost:8080/"
        },
        "id": "m6XseOF1jxpK",
        "outputId": "24ff41d4-980f-4be3-f667-632cf7e4a234"
      },
      "execution_count": 5,
      "outputs": [
        {
          "output_type": "stream",
          "name": "stdout",
          "text": [
            "[[ 0  1  2  3]\n",
            " [ 4  5  6  7]\n",
            " [ 8  9 10 11]] 2\n"
          ]
        }
      ]
    },
    {
      "cell_type": "code",
      "source": [
        "arr = arr.reshape((2, 3, 2))\n",
        "print(arr, arr.ndim)"
      ],
      "metadata": {
        "colab": {
          "base_uri": "https://localhost:8080/"
        },
        "id": "j2gs13CPj3ad",
        "outputId": "3f352e85-1d2c-4e98-bf7f-7c204d68d642"
      },
      "execution_count": 7,
      "outputs": [
        {
          "output_type": "stream",
          "name": "stdout",
          "text": [
            "[[[ 0  1]\n",
            "  [ 2  3]\n",
            "  [ 4  5]]\n",
            "\n",
            " [[ 6  7]\n",
            "  [ 8  9]\n",
            "  [10 11]]] 3\n"
          ]
        }
      ]
    },
    {
      "cell_type": "code",
      "source": [
        "arr = arr.reshape((2, 2, 1, 3))\n",
        "print(arr, arr.ndim)"
      ],
      "metadata": {
        "colab": {
          "base_uri": "https://localhost:8080/"
        },
        "id": "W1zFHEiTkEQ3",
        "outputId": "52c4d0b2-2277-4807-fcee-8edbbf75d8c0"
      },
      "execution_count": 8,
      "outputs": [
        {
          "output_type": "stream",
          "name": "stdout",
          "text": [
            "[[[[ 0  1  2]]\n",
            "\n",
            "  [[ 3  4  5]]]\n",
            "\n",
            "\n",
            " [[[ 6  7  8]]\n",
            "\n",
            "  [[ 9 10 11]]]] 4\n"
          ]
        }
      ]
    },
    {
      "cell_type": "markdown",
      "source": [
        "### Curse of Dimensionality (차원의 저주)\n",
        "\n",
        "차원이 증가하면서 학습 데이터 수가 차원의 수보다 적어지면서 모델의 성능이 저하되는 현상"
      ],
      "metadata": {
        "id": "nv4YFRrykTSG"
      }
    },
    {
      "cell_type": "markdown",
      "source": [
        "## 5-2. 배열의 형태 변경 2: resize(0, ravel()"
      ],
      "metadata": {
        "id": "Lyw9JmCUksUV"
      }
    },
    {
      "cell_type": "code",
      "source": [
        "arr = np.arange(12)\n",
        "print(arr)"
      ],
      "metadata": {
        "colab": {
          "base_uri": "https://localhost:8080/"
        },
        "id": "yroyAGiLkJqO",
        "outputId": "8e1813d7-300a-46ec-ae8c-3dd202d05d86"
      },
      "execution_count": 9,
      "outputs": [
        {
          "output_type": "stream",
          "name": "stdout",
          "text": [
            "[ 0  1  2  3  4  5  6  7  8  9 10 11]\n"
          ]
        }
      ]
    },
    {
      "cell_type": "code",
      "source": [
        "# resize() reshape()과 동일하지만 원본 배열을 변경시킴\n",
        "arr.resize(3, 4)\n",
        "print(arr)"
      ],
      "metadata": {
        "colab": {
          "base_uri": "https://localhost:8080/"
        },
        "id": "rbYwS2ZBkyrz",
        "outputId": "aeca5790-0820-4060-ddf5-98fe917f08bd"
      },
      "execution_count": 11,
      "outputs": [
        {
          "output_type": "stream",
          "name": "stdout",
          "text": [
            "[[ 0  1  2  3]\n",
            " [ 4  5  6  7]\n",
            " [ 8  9 10 11]]\n"
          ]
        }
      ]
    },
    {
      "cell_type": "code",
      "source": [
        "# ravel() 1차원 배열로 변경시킴\n",
        "arr = arr.ravel()\n",
        "print(arr)"
      ],
      "metadata": {
        "colab": {
          "base_uri": "https://localhost:8080/"
        },
        "id": "3wS2VP11k2rK",
        "outputId": "91fbb298-028e-47df-8c56-949b8306612c"
      },
      "execution_count": 12,
      "outputs": [
        {
          "output_type": "stream",
          "name": "stdout",
          "text": [
            "[ 0  1  2  3  4  5  6  7  8  9 10 11]\n"
          ]
        }
      ]
    },
    {
      "cell_type": "code",
      "source": [
        "arr = np.arange(1, 13)\n",
        "print(arr)"
      ],
      "metadata": {
        "colab": {
          "base_uri": "https://localhost:8080/"
        },
        "id": "Lrv9zxwdlCrI",
        "outputId": "86b64ed8-6637-4a4f-bfb0-78e35c1a9f6e"
      },
      "execution_count": 16,
      "outputs": [
        {
          "output_type": "stream",
          "name": "stdout",
          "text": [
            "[ 1  2  3  4  5  6  7  8  9 10 11 12]\n"
          ]
        }
      ]
    },
    {
      "cell_type": "code",
      "source": [
        "arr = arr.reshape(3, -1)  # -1을 입력하면 자동으로 계산이 됨(12개에 맞춰서 자동으로 4가 들어가게 됨)\n",
        "print(arr)"
      ],
      "metadata": {
        "colab": {
          "base_uri": "https://localhost:8080/"
        },
        "id": "CZ44ypislYPq",
        "outputId": "1dc71823-e170-4060-b6c8-bccabfc6931d"
      },
      "execution_count": 17,
      "outputs": [
        {
          "output_type": "stream",
          "name": "stdout",
          "text": [
            "[[ 1  2  3  4]\n",
            " [ 5  6  7  8]\n",
            " [ 9 10 11 12]]\n"
          ]
        }
      ]
    },
    {
      "cell_type": "code",
      "source": [
        "arr = arr.reshape(3, 2, -1)   # -1은 한 번만 써야 함\n",
        "print(arr)"
      ],
      "metadata": {
        "colab": {
          "base_uri": "https://localhost:8080/"
        },
        "id": "9uuS9nkBlPS9",
        "outputId": "ee91f2e7-1253-4420-fe36-e1eee6355a50"
      },
      "execution_count": 19,
      "outputs": [
        {
          "output_type": "stream",
          "name": "stdout",
          "text": [
            "[[[ 1  2]\n",
            "  [ 3  4]]\n",
            "\n",
            " [[ 5  6]\n",
            "  [ 7  8]]\n",
            "\n",
            " [[ 9 10]\n",
            "  [11 12]]]\n"
          ]
        }
      ]
    },
    {
      "cell_type": "markdown",
      "source": [
        "## 5-3. 배열의 형태 변경 3: expand_dims(), squeeze()"
      ],
      "metadata": {
        "id": "kPESa1VfljYt"
      }
    },
    {
      "cell_type": "code",
      "source": [
        "arr = np.array([1, 2])\n",
        "print(arr, arr.shape)\n",
        "\n",
        "# expand_dims() 입력한 axis 값을 기준으로 차원을 추가함\n",
        "arr1 = np.expand_dims(arr, axis=0)\n",
        "print(arr1, arr1.shape)\n",
        "\n",
        "arr2 = np.expand_dims(arr, axis=1)\n",
        "print(arr2, arr2.shape)"
      ],
      "metadata": {
        "colab": {
          "base_uri": "https://localhost:8080/"
        },
        "id": "ZRhjFTsxluh7",
        "outputId": "e62e4d15-cd06-47c8-e582-b216395d657d"
      },
      "execution_count": 40,
      "outputs": [
        {
          "output_type": "stream",
          "name": "stdout",
          "text": [
            "[1 2] (2,)\n",
            "[[1 2]] (1, 2)\n",
            "[[1]\n",
            " [2]] (2, 1)\n"
          ]
        }
      ]
    },
    {
      "cell_type": "code",
      "source": [
        "# squeeze() 배열의 축을 하나 제거하여 차원을 축소함\n",
        "arr = np.array([[1, 2]])\n",
        "print(arr, arr.shape, arr.ndim)\n",
        "\n",
        "arr = np.squeeze(arr, axis=0)\n",
        "print(arr, arr.shape, arr.ndim)"
      ],
      "metadata": {
        "colab": {
          "base_uri": "https://localhost:8080/"
        },
        "id": "3479POOgl-vu",
        "outputId": "65d81865-f881-4997-ad48-fe727cba26af"
      },
      "execution_count": 44,
      "outputs": [
        {
          "output_type": "stream",
          "name": "stdout",
          "text": [
            "[[1 2]] (1, 2) 2\n",
            "[1 2] (2,) 1\n"
          ]
        }
      ]
    },
    {
      "cell_type": "code",
      "source": [
        "arr = np.array([[[1],\n",
        "                 [2],\n",
        "                 [3]]])\n",
        "print(arr, arr.shape, arr.ndim)\n",
        "\n",
        "arr = np.squeeze(arr, axis=0)\n",
        "print(arr, arr.shape, arr.ndim)"
      ],
      "metadata": {
        "colab": {
          "base_uri": "https://localhost:8080/"
        },
        "id": "xANsEAGxmYD4",
        "outputId": "a301819a-d9a9-442d-9827-c11f8bb1d042"
      },
      "execution_count": 45,
      "outputs": [
        {
          "output_type": "stream",
          "name": "stdout",
          "text": [
            "[[[1]\n",
            "  [2]\n",
            "  [3]]] (1, 3, 1) 3\n",
            "[[1]\n",
            " [2]\n",
            " [3]] (3, 1) 2\n"
          ]
        }
      ]
    },
    {
      "cell_type": "code",
      "source": [
        "arr = np.array([[[1, 2, 3]]])\n",
        "print(arr, arr.shape, arr.ndim)\n",
        "\n",
        "arr = np.squeeze(arr, axis=1)\n",
        "print(arr, arr.shape, arr.ndim)"
      ],
      "metadata": {
        "colab": {
          "base_uri": "https://localhost:8080/"
        },
        "id": "b2okFSYMmkMg",
        "outputId": "670c9736-a822-42aa-98c6-3d18fdcce83f"
      },
      "execution_count": 46,
      "outputs": [
        {
          "output_type": "stream",
          "name": "stdout",
          "text": [
            "[[[1 2 3]]] (1, 1, 3) 3\n",
            "[[1 2 3]] (1, 3) 2\n"
          ]
        }
      ]
    },
    {
      "cell_type": "code",
      "source": [
        "arr = np.array([[[1, 2, 3]]])\n",
        "print(arr, arr.shape, arr.ndim)\n",
        "\n",
        "arr = np.squeeze(arr)\n",
        "print(arr, arr.shape, arr.ndim)"
      ],
      "metadata": {
        "colab": {
          "base_uri": "https://localhost:8080/"
        },
        "id": "QjAu8Husm9U5",
        "outputId": "674e7e50-9a76-46ff-f3b3-2921ad236c1f"
      },
      "execution_count": 49,
      "outputs": [
        {
          "output_type": "stream",
          "name": "stdout",
          "text": [
            "[[[1 2 3]]] (1, 1, 3) 3\n",
            "[1 2 3] (3,) 1\n"
          ]
        }
      ]
    },
    {
      "cell_type": "code",
      "source": [],
      "metadata": {
        "id": "BkMwLMixnNN_"
      },
      "execution_count": null,
      "outputs": []
    }
  ]
}