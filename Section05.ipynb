{
  "nbformat": 4,
  "nbformat_minor": 0,
  "metadata": {
    "colab": {
      "provenance": [],
      "authorship_tag": "ABX9TyM5UQURP+hOpN6w43lVX/et",
      "include_colab_link": true
    },
    "kernelspec": {
      "name": "python3",
      "display_name": "Python 3"
    },
    "language_info": {
      "name": "python"
    }
  },
  "cells": [
    {
      "cell_type": "markdown",
      "metadata": {
        "id": "view-in-github",
        "colab_type": "text"
      },
      "source": [
        "<a href=\"https://colab.research.google.com/github/JongeunKeum/python-numpy/blob/main/Section05.ipynb\" target=\"_parent\"><img src=\"https://colab.research.google.com/assets/colab-badge.svg\" alt=\"Open In Colab\"/></a>"
      ]
    },
    {
      "cell_type": "code",
      "execution_count": 1,
      "metadata": {
        "id": "r4QUfFoejk4a"
      },
      "outputs": [],
      "source": [
        "import numpy as np"
      ]
    },
    {
      "cell_type": "markdown",
      "source": [
        "# Section 5. N차원 배열의 형태 변경"
      ],
      "metadata": {
        "id": "eSoOy3V0jo3k"
      }
    },
    {
      "cell_type": "markdown",
      "source": [
        "## 5-1. 배열의 형태 변경 1: reshape()"
      ],
      "metadata": {
        "id": "0_B1ZVdjjrmD"
      }
    },
    {
      "cell_type": "code",
      "source": [
        "arr = np.arange(12)\n",
        "print(arr, arr.ndim)"
      ],
      "metadata": {
        "colab": {
          "base_uri": "https://localhost:8080/"
        },
        "id": "ZARq-sHWjof9",
        "outputId": "36f90432-8a64-4775-e864-fe0885ce1b81"
      },
      "execution_count": 3,
      "outputs": [
        {
          "output_type": "stream",
          "name": "stdout",
          "text": [
            "[ 0  1  2  3  4  5  6  7  8  9 10 11] 1\n"
          ]
        }
      ]
    },
    {
      "cell_type": "code",
      "source": [
        "arr = arr.reshape((3, 4))   # 원소의 개수가 맞아야 함\n",
        "print(arr, arr.ndim)"
      ],
      "metadata": {
        "colab": {
          "base_uri": "https://localhost:8080/"
        },
        "id": "m6XseOF1jxpK",
        "outputId": "24ff41d4-980f-4be3-f667-632cf7e4a234"
      },
      "execution_count": 5,
      "outputs": [
        {
          "output_type": "stream",
          "name": "stdout",
          "text": [
            "[[ 0  1  2  3]\n",
            " [ 4  5  6  7]\n",
            " [ 8  9 10 11]] 2\n"
          ]
        }
      ]
    },
    {
      "cell_type": "code",
      "source": [
        "arr = arr.reshape((2, 3, 2))\n",
        "print(arr, arr.ndim)"
      ],
      "metadata": {
        "colab": {
          "base_uri": "https://localhost:8080/"
        },
        "id": "j2gs13CPj3ad",
        "outputId": "3f352e85-1d2c-4e98-bf7f-7c204d68d642"
      },
      "execution_count": 7,
      "outputs": [
        {
          "output_type": "stream",
          "name": "stdout",
          "text": [
            "[[[ 0  1]\n",
            "  [ 2  3]\n",
            "  [ 4  5]]\n",
            "\n",
            " [[ 6  7]\n",
            "  [ 8  9]\n",
            "  [10 11]]] 3\n"
          ]
        }
      ]
    },
    {
      "cell_type": "code",
      "source": [
        "arr = arr.reshape((2, 2, 1, 3))\n",
        "print(arr, arr.ndim)"
      ],
      "metadata": {
        "colab": {
          "base_uri": "https://localhost:8080/"
        },
        "id": "W1zFHEiTkEQ3",
        "outputId": "52c4d0b2-2277-4807-fcee-8edbbf75d8c0"
      },
      "execution_count": 8,
      "outputs": [
        {
          "output_type": "stream",
          "name": "stdout",
          "text": [
            "[[[[ 0  1  2]]\n",
            "\n",
            "  [[ 3  4  5]]]\n",
            "\n",
            "\n",
            " [[[ 6  7  8]]\n",
            "\n",
            "  [[ 9 10 11]]]] 4\n"
          ]
        }
      ]
    },
    {
      "cell_type": "markdown",
      "source": [
        "### Curse of Dimensionality (차원의 저주)\n",
        "\n",
        "차원이 증가하면서 학습 데이터 수가 차원의 수보다 적어지면서 모델의 성능이 저하되는 현상"
      ],
      "metadata": {
        "id": "nv4YFRrykTSG"
      }
    },
    {
      "cell_type": "code",
      "source": [],
      "metadata": {
        "id": "yroyAGiLkJqO"
      },
      "execution_count": null,
      "outputs": []
    }
  ]
}