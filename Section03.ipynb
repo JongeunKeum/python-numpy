{
  "nbformat": 4,
  "nbformat_minor": 0,
  "metadata": {
    "colab": {
      "provenance": [],
      "authorship_tag": "ABX9TyO6WUHI+rK3lLlMUXySCf6j",
      "include_colab_link": true
    },
    "kernelspec": {
      "name": "python3",
      "display_name": "Python 3"
    },
    "language_info": {
      "name": "python"
    }
  },
  "cells": [
    {
      "cell_type": "markdown",
      "metadata": {
        "id": "view-in-github",
        "colab_type": "text"
      },
      "source": [
        "<a href=\"https://colab.research.google.com/github/JongeunKeum/python-numpy/blob/main/Section03.ipynb\" target=\"_parent\"><img src=\"https://colab.research.google.com/assets/colab-badge.svg\" alt=\"Open In Colab\"/></a>"
      ]
    },
    {
      "cell_type": "code",
      "execution_count": 1,
      "metadata": {
        "id": "B_isvleTQBb8"
      },
      "outputs": [],
      "source": [
        "import numpy as np"
      ]
    },
    {
      "cell_type": "markdown",
      "source": [
        "# Section 3. N차원 배열 연산법"
      ],
      "metadata": {
        "id": "pWlv1JetSWDp"
      }
    },
    {
      "cell_type": "markdown",
      "source": [
        "## 3-1. 배열의 연산 1: 사칙연산/제곱/제곱근/몫/나머지"
      ],
      "metadata": {
        "id": "Q-RFPIjHSZDa"
      }
    },
    {
      "cell_type": "code",
      "source": [
        "arr1 = np.array([[1, 2, 3],\n",
        "                 [4, 5, 6],\n",
        "                 [7, 8, 9]])\n",
        "arr2 = np.full((3, 3), 2)\n",
        "print(arr1)\n",
        "print(arr2)"
      ],
      "metadata": {
        "colab": {
          "base_uri": "https://localhost:8080/"
        },
        "id": "yW5-ArRMQFUr",
        "outputId": "53cef454-73cc-4d2f-ada1-badcb62b02a0"
      },
      "execution_count": 2,
      "outputs": [
        {
          "output_type": "stream",
          "name": "stdout",
          "text": [
            "[[1 2 3]\n",
            " [4 5 6]\n",
            " [7 8 9]]\n",
            "[[2 2 2]\n",
            " [2 2 2]\n",
            " [2 2 2]]\n"
          ]
        }
      ]
    },
    {
      "cell_type": "code",
      "source": [
        "# 덧셈\n",
        "print(arr1 + arr2)\n",
        "print(np.add(arr1, arr2))"
      ],
      "metadata": {
        "colab": {
          "base_uri": "https://localhost:8080/"
        },
        "id": "bGKoP5t4SzAR",
        "outputId": "9ad1b817-1479-4f1b-b4ad-1538fb5f3a10"
      },
      "execution_count": 4,
      "outputs": [
        {
          "output_type": "stream",
          "name": "stdout",
          "text": [
            "[[ 3  4  5]\n",
            " [ 6  7  8]\n",
            " [ 9 10 11]]\n",
            "[[ 3  4  5]\n",
            " [ 6  7  8]\n",
            " [ 9 10 11]]\n"
          ]
        }
      ]
    },
    {
      "cell_type": "code",
      "source": [
        "# 뺄셈\n",
        "print(arr1 - arr2)\n",
        "print(np.subtract(arr1, arr2))"
      ],
      "metadata": {
        "colab": {
          "base_uri": "https://localhost:8080/"
        },
        "id": "Fa41ISx6S1jt",
        "outputId": "897d34b7-b1df-4837-fd58-a4588d1d2278"
      },
      "execution_count": 6,
      "outputs": [
        {
          "output_type": "stream",
          "name": "stdout",
          "text": [
            "[[-1  0  1]\n",
            " [ 2  3  4]\n",
            " [ 5  6  7]]\n",
            "[[-1  0  1]\n",
            " [ 2  3  4]\n",
            " [ 5  6  7]]\n"
          ]
        }
      ]
    },
    {
      "cell_type": "code",
      "source": [
        "# 곱셈(내적이 아님. 원소 단위의 곱셈 결과)\n",
        "print(arr1 * arr2)\n",
        "print(np.multiply(arr1, arr2))"
      ],
      "metadata": {
        "colab": {
          "base_uri": "https://localhost:8080/"
        },
        "id": "YrNEoiG5S9n-",
        "outputId": "8b7e2ad3-b4b1-4f8b-cbdc-7f950f3be608"
      },
      "execution_count": 8,
      "outputs": [
        {
          "output_type": "stream",
          "name": "stdout",
          "text": [
            "[[ 2  4  6]\n",
            " [ 8 10 12]\n",
            " [14 16 18]]\n",
            "[[ 2  4  6]\n",
            " [ 8 10 12]\n",
            " [14 16 18]]\n"
          ]
        }
      ]
    },
    {
      "cell_type": "code",
      "source": [
        "# 나눗셈\n",
        "print(arr1 / arr2)\n",
        "print(np.divide(arr1, arr2))"
      ],
      "metadata": {
        "colab": {
          "base_uri": "https://localhost:8080/"
        },
        "id": "G9obhk4iTEq-",
        "outputId": "923b9c52-fab6-4ddb-e650-9d6ce5b05d20"
      },
      "execution_count": 9,
      "outputs": [
        {
          "output_type": "stream",
          "name": "stdout",
          "text": [
            "[[0.5 1.  1.5]\n",
            " [2.  2.5 3. ]\n",
            " [3.5 4.  4.5]]\n",
            "[[0.5 1.  1.5]\n",
            " [2.  2.5 3. ]\n",
            " [3.5 4.  4.5]]\n"
          ]
        }
      ]
    },
    {
      "cell_type": "code",
      "source": [
        "# 제곱\n",
        "arr1 = np.array([[1, 2, 3],\n",
        "                 [4, 5, 6],\n",
        "                 [7, 8, 9]])\n",
        "arr2 = np.full((3, 3), 2)\n",
        "\n",
        "print(arr1 ** 5)\n",
        "print(np.square(arr1))"
      ],
      "metadata": {
        "colab": {
          "base_uri": "https://localhost:8080/"
        },
        "id": "SA_Bgl_2TRzr",
        "outputId": "976e1ba3-24f9-46be-e54e-9c74216c6a53"
      },
      "execution_count": 10,
      "outputs": [
        {
          "output_type": "stream",
          "name": "stdout",
          "text": [
            "[[    1    32   243]\n",
            " [ 1024  3125  7776]\n",
            " [16807 32768 59049]]\n",
            "[[ 1  4  9]\n",
            " [16 25 36]\n",
            " [49 64 81]]\n"
          ]
        }
      ]
    },
    {
      "cell_type": "code",
      "source": [
        "# 제곱근\n",
        "print(np.sqrt(arr1))"
      ],
      "metadata": {
        "colab": {
          "base_uri": "https://localhost:8080/"
        },
        "id": "95_g_Hk5TcRi",
        "outputId": "1ccdb2ab-68af-456e-f805-4470cb5d9457"
      },
      "execution_count": 11,
      "outputs": [
        {
          "output_type": "stream",
          "name": "stdout",
          "text": [
            "[[1.         1.41421356 1.73205081]\n",
            " [2.         2.23606798 2.44948974]\n",
            " [2.64575131 2.82842712 3.        ]]\n"
          ]
        }
      ]
    },
    {
      "cell_type": "code",
      "source": [
        "# 몫\n",
        "print(arr1 // arr2)"
      ],
      "metadata": {
        "colab": {
          "base_uri": "https://localhost:8080/"
        },
        "id": "tZ6nmixUTfY4",
        "outputId": "65eb751b-579a-4389-da9c-a7dfbd8c5319"
      },
      "execution_count": 13,
      "outputs": [
        {
          "output_type": "stream",
          "name": "stdout",
          "text": [
            "[[0 1 1]\n",
            " [2 2 3]\n",
            " [3 4 4]]\n"
          ]
        }
      ]
    },
    {
      "cell_type": "code",
      "source": [
        "# 나머지\n",
        "print(arr1 % arr2)"
      ],
      "metadata": {
        "colab": {
          "base_uri": "https://localhost:8080/"
        },
        "id": "p9ao2nSJTkQD",
        "outputId": "ba5942c4-2027-4c4d-ce24-9eba69d523db"
      },
      "execution_count": 15,
      "outputs": [
        {
          "output_type": "stream",
          "name": "stdout",
          "text": [
            "[[1 0 1]\n",
            " [0 1 0]\n",
            " [1 0 1]]\n"
          ]
        }
      ]
    },
    {
      "cell_type": "markdown",
      "source": [
        "## 3-2. 배열의 연산 2: 내적(dot product)/절대값/올림/내림/반올림/버림"
      ],
      "metadata": {
        "id": "ykW5Oll-Tx-f"
      }
    },
    {
      "cell_type": "code",
      "source": [
        "# 1차원 행렬 내적\n",
        "arr1 = np.array([2, 3, 4])\n",
        "arr2 = np.array([1, 2, 3])\n",
        "\n",
        "print(np.dot(arr1, arr2))"
      ],
      "metadata": {
        "colab": {
          "base_uri": "https://localhost:8080/"
        },
        "id": "u4s4v_I1Tn_V",
        "outputId": "2d80025c-c422-49d6-a034-1a75f84f26b9"
      },
      "execution_count": 17,
      "outputs": [
        {
          "output_type": "stream",
          "name": "stdout",
          "text": [
            "20\n"
          ]
        }
      ]
    },
    {
      "cell_type": "code",
      "source": [
        "# 2차원 행렬 내적\n",
        "'''\n",
        "[[a, b]      [[e, f]         [[ae + bg, af + bh]\n",
        " [c, d]]      [g, h]]   =>    [ce + dg, cf + dh]]\n",
        "'''\n",
        "\n",
        "arr1 = np.array([[1, 2],\n",
        "                 [4, 5]])\n",
        "arr2 = np.array([[1, 2],\n",
        "                 [0, 3]])\n",
        "print(np.dot(arr1, arr2))"
      ],
      "metadata": {
        "colab": {
          "base_uri": "https://localhost:8080/"
        },
        "id": "k3OjakjnT-MH",
        "outputId": "67a9eb26-f317-464d-fb40-26b27c831b80"
      },
      "execution_count": 18,
      "outputs": [
        {
          "output_type": "stream",
          "name": "stdout",
          "text": [
            "[[ 1  8]\n",
            " [ 4 23]]\n"
          ]
        }
      ]
    },
    {
      "cell_type": "code",
      "source": [
        "# 절대값\n",
        "arr1 = np.array([[1, -2],\n",
        "                 [-4, 5]])\n",
        "print(np.abs(arr1))"
      ],
      "metadata": {
        "colab": {
          "base_uri": "https://localhost:8080/"
        },
        "id": "IKCga8OqU9Gb",
        "outputId": "3a3135f5-d46d-41ed-f570-7932ba750724"
      },
      "execution_count": 19,
      "outputs": [
        {
          "output_type": "stream",
          "name": "stdout",
          "text": [
            "[[1 2]\n",
            " [4 5]]\n"
          ]
        }
      ]
    },
    {
      "cell_type": "code",
      "source": [
        "# 올림\n",
        "arr = np.array([[1.932, -2.339],\n",
        "                 [-4.145, 5.206]])\n",
        "print(np.ceil(arr))"
      ],
      "metadata": {
        "colab": {
          "base_uri": "https://localhost:8080/"
        },
        "id": "JHtiyd3MVLR8",
        "outputId": "df935d02-4cba-4f19-d086-dcb4c60851f2"
      },
      "execution_count": 24,
      "outputs": [
        {
          "output_type": "stream",
          "name": "stdout",
          "text": [
            "[[ 2. -2.]\n",
            " [-4.  6.]]\n"
          ]
        }
      ]
    },
    {
      "cell_type": "code",
      "source": [
        "# 내림\n",
        "print(np.floor(arr))"
      ],
      "metadata": {
        "colab": {
          "base_uri": "https://localhost:8080/"
        },
        "id": "gphkYs2GVUoN",
        "outputId": "0cd86119-57e6-47e4-9327-319096edec3e"
      },
      "execution_count": 25,
      "outputs": [
        {
          "output_type": "stream",
          "name": "stdout",
          "text": [
            "[[ 1. -3.]\n",
            " [-5.  5.]]\n"
          ]
        }
      ]
    },
    {
      "cell_type": "code",
      "source": [
        "# 반올림\n",
        "print(np.round(arr))"
      ],
      "metadata": {
        "colab": {
          "base_uri": "https://localhost:8080/"
        },
        "id": "AIzVik84VXBE",
        "outputId": "4674fc85-490e-4caa-b81b-f402ace3a1f7"
      },
      "execution_count": 26,
      "outputs": [
        {
          "output_type": "stream",
          "name": "stdout",
          "text": [
            "[[ 2. -2.]\n",
            " [-4.  5.]]\n"
          ]
        }
      ]
    },
    {
      "cell_type": "code",
      "source": [
        "# 버림\n",
        "print(np.trunc(arr))"
      ],
      "metadata": {
        "colab": {
          "base_uri": "https://localhost:8080/"
        },
        "id": "jbfEx1zzVaKw",
        "outputId": "afcb3143-58f4-4397-9785-c41fb9882df4"
      },
      "execution_count": 27,
      "outputs": [
        {
          "output_type": "stream",
          "name": "stdout",
          "text": [
            "[[ 1. -2.]\n",
            " [-4.  5.]]\n"
          ]
        }
      ]
    },
    {
      "cell_type": "code",
      "source": [],
      "metadata": {
        "id": "IP5BZnXQVc6s"
      },
      "execution_count": null,
      "outputs": []
    }
  ]
}