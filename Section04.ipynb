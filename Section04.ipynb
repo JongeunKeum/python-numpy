{
  "nbformat": 4,
  "nbformat_minor": 0,
  "metadata": {
    "colab": {
      "provenance": [],
      "authorship_tag": "ABX9TyNnf+MWAQfHZ8ZPXkmhvYbY",
      "include_colab_link": true
    },
    "kernelspec": {
      "name": "python3",
      "display_name": "Python 3"
    },
    "language_info": {
      "name": "python"
    }
  },
  "cells": [
    {
      "cell_type": "markdown",
      "metadata": {
        "id": "view-in-github",
        "colab_type": "text"
      },
      "source": [
        "<a href=\"https://colab.research.google.com/github/JongeunKeum/python-numpy/blob/main/Section04.ipynb\" target=\"_parent\"><img src=\"https://colab.research.google.com/assets/colab-badge.svg\" alt=\"Open In Colab\"/></a>"
      ]
    },
    {
      "cell_type": "code",
      "execution_count": 1,
      "metadata": {
        "id": "1BgchNPue0VT"
      },
      "outputs": [],
      "source": [
        "import numpy as np"
      ]
    },
    {
      "cell_type": "markdown",
      "source": [
        "# Section 4. N차원 배열 정렬"
      ],
      "metadata": {
        "id": "EkexhUIkh5xd"
      }
    },
    {
      "cell_type": "markdown",
      "source": [
        "## 4-1. 1차원 배열의 정렬"
      ],
      "metadata": {
        "id": "xIrSZKedh_GG"
      }
    },
    {
      "cell_type": "code",
      "source": [
        "arr = np.random.randint(10, size=10)\n",
        "print(arr)"
      ],
      "metadata": {
        "colab": {
          "base_uri": "https://localhost:8080/"
        },
        "id": "bacdCbhie463",
        "outputId": "ca18a920-a57b-4c5b-f98a-326bc7a80343"
      },
      "execution_count": 2,
      "outputs": [
        {
          "output_type": "stream",
          "name": "stdout",
          "text": [
            "[5 4 6 4 0 0 8 5 7 6]\n"
          ]
        }
      ]
    },
    {
      "cell_type": "code",
      "source": [
        "print(np.sort(arr))         # 오름차순\n",
        "print(np.sort(arr)[::-1])   # 내림차순\n",
        "# 이런 방법은 원본 배열이 변경되지 않음"
      ],
      "metadata": {
        "colab": {
          "base_uri": "https://localhost:8080/"
        },
        "id": "hwZsY4kaiGI6",
        "outputId": "ddfdac12-0923-406b-a2c7-b7917fa29974"
      },
      "execution_count": 5,
      "outputs": [
        {
          "output_type": "stream",
          "name": "stdout",
          "text": [
            "[0 0 4 4 5 5 6 6 7 8]\n",
            "[8 7 6 6 5 5 4 4 0 0]\n"
          ]
        }
      ]
    },
    {
      "cell_type": "code",
      "source": [
        "# arr = np.sort(arr)    # 원본 배열 변경\n",
        "arr.sort()            # 원본 배열 변경\n",
        "print(arr)"
      ],
      "metadata": {
        "colab": {
          "base_uri": "https://localhost:8080/"
        },
        "id": "TwSufg_FiJLw",
        "outputId": "b6361f7e-07c7-4509-cdaa-687eae2eadc9"
      },
      "execution_count": 7,
      "outputs": [
        {
          "output_type": "stream",
          "name": "stdout",
          "text": [
            "[0 0 4 4 5 5 6 6 7 8]\n"
          ]
        }
      ]
    },
    {
      "cell_type": "markdown",
      "source": [
        "## 4-2. 2차원 배열의 정렬"
      ],
      "metadata": {
        "id": "Ou53FfU1ikT7"
      }
    },
    {
      "cell_type": "code",
      "source": [
        "arr = np.random.randint(15, size=(3,4))\n",
        "print(arr)"
      ],
      "metadata": {
        "colab": {
          "base_uri": "https://localhost:8080/"
        },
        "id": "yOGOGo9OicTf",
        "outputId": "473e8b7e-5e95-463c-c412-4f097cc33ab9"
      },
      "execution_count": 9,
      "outputs": [
        {
          "output_type": "stream",
          "name": "stdout",
          "text": [
            "[[11 13 13 14]\n",
            " [13 14  3 12]\n",
            " [ 6 13 10  3]]\n"
          ]
        }
      ]
    },
    {
      "cell_type": "code",
      "source": [
        "print(np.sort(arr))   # axis=1로 정렬됨"
      ],
      "metadata": {
        "colab": {
          "base_uri": "https://localhost:8080/"
        },
        "id": "wxNGvuFEioe1",
        "outputId": "325ff087-a0bf-4274-ae2f-5f028abea945"
      },
      "execution_count": 10,
      "outputs": [
        {
          "output_type": "stream",
          "name": "stdout",
          "text": [
            "[[11 13 13 14]\n",
            " [ 3 12 13 14]\n",
            " [ 3  6 10 13]]\n"
          ]
        }
      ]
    },
    {
      "cell_type": "code",
      "source": [
        "print(np.sort(arr, axis=0))"
      ],
      "metadata": {
        "colab": {
          "base_uri": "https://localhost:8080/"
        },
        "id": "Zr4sJMPMiqj2",
        "outputId": "f0b24684-82c7-48b5-b7af-896399ae9cb3"
      },
      "execution_count": 11,
      "outputs": [
        {
          "output_type": "stream",
          "name": "stdout",
          "text": [
            "[[ 6 13  3  3]\n",
            " [11 13 10 12]\n",
            " [13 14 13 14]]\n"
          ]
        }
      ]
    },
    {
      "cell_type": "code",
      "source": [
        "print(np.sort(arr, axis=None))  # 1차원 배열로 변환시킨 후에 오름차순으로 정렬"
      ],
      "metadata": {
        "colab": {
          "base_uri": "https://localhost:8080/"
        },
        "id": "zb9nRG-ziyV8",
        "outputId": "b9cf0546-3b78-4214-a10b-1c6eee0cd1fa"
      },
      "execution_count": 13,
      "outputs": [
        {
          "output_type": "stream",
          "name": "stdout",
          "text": [
            "[ 3  3  6 10 11 12 13 13 13 13 14 14]\n"
          ]
        }
      ]
    },
    {
      "cell_type": "code",
      "source": [
        "# argsort() 원소의 기존 위치를 나타냄\n",
        "print(np.sort(arr, axis=1))\n",
        "print(np.argsort(arr, axis=1)) "
      ],
      "metadata": {
        "colab": {
          "base_uri": "https://localhost:8080/"
        },
        "id": "u9G10lcui5uZ",
        "outputId": "52b2b08d-6313-450d-a141-f17168569456"
      },
      "execution_count": 14,
      "outputs": [
        {
          "output_type": "stream",
          "name": "stdout",
          "text": [
            "[[11 13 13 14]\n",
            " [ 3 12 13 14]\n",
            " [ 3  6 10 13]]\n",
            "[[0 1 2 3]\n",
            " [2 3 0 1]\n",
            " [3 0 2 1]]\n"
          ]
        }
      ]
    },
    {
      "cell_type": "code",
      "source": [
        "print(np.sort(arr, axis=0))\n",
        "print(np.argsort(arr, axis=0)) "
      ],
      "metadata": {
        "colab": {
          "base_uri": "https://localhost:8080/"
        },
        "id": "2tZdAjk5jFDJ",
        "outputId": "aa7c75e1-0e84-4200-babe-f16849ffde7c"
      },
      "execution_count": 16,
      "outputs": [
        {
          "output_type": "stream",
          "name": "stdout",
          "text": [
            "[[ 6 13  3  3]\n",
            " [11 13 10 12]\n",
            " [13 14 13 14]]\n",
            "[[2 0 1 2]\n",
            " [0 2 2 1]\n",
            " [1 1 0 0]]\n"
          ]
        }
      ]
    },
    {
      "cell_type": "code",
      "source": [],
      "metadata": {
        "id": "qeDkQf27jSBA"
      },
      "execution_count": null,
      "outputs": []
    }
  ]
}