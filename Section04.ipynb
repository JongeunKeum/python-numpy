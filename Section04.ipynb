{
  "nbformat": 4,
  "nbformat_minor": 0,
  "metadata": {
    "colab": {
      "provenance": [],
      "authorship_tag": "ABX9TyNoLBZYR26DEMF+/deCiaQl",
      "include_colab_link": true
    },
    "kernelspec": {
      "name": "python3",
      "display_name": "Python 3"
    },
    "language_info": {
      "name": "python"
    }
  },
  "cells": [
    {
      "cell_type": "markdown",
      "metadata": {
        "id": "view-in-github",
        "colab_type": "text"
      },
      "source": [
        "<a href=\"https://colab.research.google.com/github/JongeunKeum/python-numpy/blob/main/Section04.ipynb\" target=\"_parent\"><img src=\"https://colab.research.google.com/assets/colab-badge.svg\" alt=\"Open In Colab\"/></a>"
      ]
    },
    {
      "cell_type": "code",
      "execution_count": 1,
      "metadata": {
        "id": "1BgchNPue0VT"
      },
      "outputs": [],
      "source": [
        "import numpy as np"
      ]
    },
    {
      "cell_type": "markdown",
      "source": [
        "# Section 4. N차원 배열 정렬"
      ],
      "metadata": {
        "id": "EkexhUIkh5xd"
      }
    },
    {
      "cell_type": "markdown",
      "source": [
        "## 4-1. 1차원 배열의 정렬"
      ],
      "metadata": {
        "id": "xIrSZKedh_GG"
      }
    },
    {
      "cell_type": "code",
      "source": [
        "arr = np.random.randint(10, size=10)\n",
        "print(arr)"
      ],
      "metadata": {
        "colab": {
          "base_uri": "https://localhost:8080/"
        },
        "id": "bacdCbhie463",
        "outputId": "ca18a920-a57b-4c5b-f98a-326bc7a80343"
      },
      "execution_count": 2,
      "outputs": [
        {
          "output_type": "stream",
          "name": "stdout",
          "text": [
            "[5 4 6 4 0 0 8 5 7 6]\n"
          ]
        }
      ]
    },
    {
      "cell_type": "code",
      "source": [
        "print(np.sort(arr))         # 오름차순\n",
        "print(np.sort(arr)[::-1])   # 내림차순\n",
        "# 이런 방법은 원본 배열이 변경되지 않음"
      ],
      "metadata": {
        "colab": {
          "base_uri": "https://localhost:8080/"
        },
        "id": "hwZsY4kaiGI6",
        "outputId": "ddfdac12-0923-406b-a2c7-b7917fa29974"
      },
      "execution_count": 5,
      "outputs": [
        {
          "output_type": "stream",
          "name": "stdout",
          "text": [
            "[0 0 4 4 5 5 6 6 7 8]\n",
            "[8 7 6 6 5 5 4 4 0 0]\n"
          ]
        }
      ]
    },
    {
      "cell_type": "code",
      "source": [
        "# arr = np.sort(arr)    # 원본 배열 변경\n",
        "arr.sort()            # 원본 배열 변경\n",
        "print(arr)"
      ],
      "metadata": {
        "colab": {
          "base_uri": "https://localhost:8080/"
        },
        "id": "TwSufg_FiJLw",
        "outputId": "b6361f7e-07c7-4509-cdaa-687eae2eadc9"
      },
      "execution_count": 7,
      "outputs": [
        {
          "output_type": "stream",
          "name": "stdout",
          "text": [
            "[0 0 4 4 5 5 6 6 7 8]\n"
          ]
        }
      ]
    },
    {
      "cell_type": "code",
      "source": [],
      "metadata": {
        "id": "yOGOGo9OicTf"
      },
      "execution_count": null,
      "outputs": []
    }
  ]
}