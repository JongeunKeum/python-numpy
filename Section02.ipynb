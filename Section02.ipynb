{
  "nbformat": 4,
  "nbformat_minor": 0,
  "metadata": {
    "colab": {
      "provenance": [],
      "authorship_tag": "ABX9TyOinGnVOi0HJ3zDZa/CrE+A",
      "include_colab_link": true
    },
    "kernelspec": {
      "name": "python3",
      "display_name": "Python 3"
    },
    "language_info": {
      "name": "python"
    }
  },
  "cells": [
    {
      "cell_type": "markdown",
      "metadata": {
        "id": "view-in-github",
        "colab_type": "text"
      },
      "source": [
        "<a href=\"https://colab.research.google.com/github/JongeunKeum/python-numpy/blob/main/Section02.ipynb\" target=\"_parent\"><img src=\"https://colab.research.google.com/assets/colab-badge.svg\" alt=\"Open In Colab\"/></a>"
      ]
    },
    {
      "cell_type": "code",
      "execution_count": 1,
      "metadata": {
        "id": "8iVagINEF06l"
      },
      "outputs": [],
      "source": [
        "import numpy as np"
      ]
    },
    {
      "cell_type": "markdown",
      "source": [
        "# Section 2. N차원 배열 인덱싱"
      ],
      "metadata": {
        "id": "ahs7KkJbF4sC"
      }
    },
    {
      "cell_type": "markdown",
      "source": [
        "## 2-1. 배열의 index 접근하기"
      ],
      "metadata": {
        "id": "8rjdDZTrF8A3"
      }
    },
    {
      "cell_type": "code",
      "source": [
        "# 1차원 배열\n",
        "arr = np.arange(10)\n",
        "print(arr)"
      ],
      "metadata": {
        "colab": {
          "base_uri": "https://localhost:8080/"
        },
        "id": "nVQ7faBfF34G",
        "outputId": "fb63b5f2-3b9a-40f2-924d-d7e989c64de1"
      },
      "execution_count": 3,
      "outputs": [
        {
          "output_type": "stream",
          "name": "stdout",
          "text": [
            "[0 1 2 3 4 5 6 7 8 9]\n"
          ]
        }
      ]
    },
    {
      "cell_type": "code",
      "source": [
        "print(arr[3])\n",
        "print(arr[1])\n",
        "print(arr[-1])\n",
        "print(arr[-3])"
      ],
      "metadata": {
        "colab": {
          "base_uri": "https://localhost:8080/"
        },
        "id": "XodXtiZRGEBi",
        "outputId": "acc81ba9-2d3c-4c00-9ce1-266754349580"
      },
      "execution_count": 9,
      "outputs": [
        {
          "output_type": "stream",
          "name": "stdout",
          "text": [
            "3\n",
            "1\n",
            "9\n",
            "7\n"
          ]
        }
      ]
    },
    {
      "cell_type": "code",
      "source": [
        "# 2차원 배열 인덱싱\n",
        "arr = np.array([[1, 2, 3, 4],\n",
        "                [5, 6, 7, 8],\n",
        "                [9, 10, 11, 12]])\n",
        "print(arr, arr.shape, arr.ndim)"
      ],
      "metadata": {
        "colab": {
          "base_uri": "https://localhost:8080/"
        },
        "id": "3Inyf0veGIoD",
        "outputId": "3f1a59ed-ecd8-4d8c-c574-98d27f7c9e60"
      },
      "execution_count": 11,
      "outputs": [
        {
          "output_type": "stream",
          "name": "stdout",
          "text": [
            "[[ 1  2  3  4]\n",
            " [ 5  6  7  8]\n",
            " [ 9 10 11 12]] (3, 4) 2\n"
          ]
        }
      ]
    },
    {
      "cell_type": "code",
      "source": [
        "print(arr[0]) # 0행에 해당하는 값 전부"
      ],
      "metadata": {
        "colab": {
          "base_uri": "https://localhost:8080/"
        },
        "id": "l0Yk2BdHM6dT",
        "outputId": "cc62326d-8778-4be9-85e7-2ce163f5d47b"
      },
      "execution_count": 13,
      "outputs": [
        {
          "output_type": "stream",
          "name": "stdout",
          "text": [
            "[1 2 3 4]\n"
          ]
        }
      ]
    },
    {
      "cell_type": "code",
      "source": [
        "print(arr[0][3]) # 0행 3열\n",
        "print(arr[0, 3])"
      ],
      "metadata": {
        "colab": {
          "base_uri": "https://localhost:8080/"
        },
        "id": "o9Va10r2M9qe",
        "outputId": "5e29a6ca-4704-4790-c283-73626c0aa036"
      },
      "execution_count": 15,
      "outputs": [
        {
          "output_type": "stream",
          "name": "stdout",
          "text": [
            "4\n",
            "4\n"
          ]
        }
      ]
    },
    {
      "cell_type": "code",
      "source": [
        "arr = np.array([0, 1, 2, 3, 4, 5, 6, 7, 8, 9])\n",
        "print(arr[3:8]) # 3부터 8 미만까지\n",
        "print(arr[3:]) # 3부터 끝까지\n",
        "print(arr[:7]) # 처음부터 7 미만까지\n",
        "print(arr[:-1])"
      ],
      "metadata": {
        "colab": {
          "base_uri": "https://localhost:8080/"
        },
        "id": "f6gJPXIvNBHP",
        "outputId": "5c99c730-3543-4d37-a5af-804fd23c786f"
      },
      "execution_count": 23,
      "outputs": [
        {
          "output_type": "stream",
          "name": "stdout",
          "text": [
            "[3 4 5 6 7]\n",
            "[3 4 5 6 7 8 9]\n",
            "[0 1 2 3 4 5 6]\n",
            "[0 1 2 3 4 5 6 7 8]\n"
          ]
        }
      ]
    },
    {
      "cell_type": "code",
      "source": [
        "arr = np.array([[1, 2, 3, 4],\n",
        "                [5, 6, 7, 8],\n",
        "                [9, 10, 11, 12]])\n",
        "print(arr[0, :]) # 0행 모든 열\n",
        "print(arr[:, 1]) # 모든 행 1열"
      ],
      "metadata": {
        "colab": {
          "base_uri": "https://localhost:8080/"
        },
        "id": "QM0IHy26NZnh",
        "outputId": "78c686e5-e422-4124-d009-db8657373f14"
      },
      "execution_count": 25,
      "outputs": [
        {
          "output_type": "stream",
          "name": "stdout",
          "text": [
            "[1 2 3 4]\n",
            "[ 2  6 10]\n"
          ]
        }
      ]
    },
    {
      "cell_type": "code",
      "source": [
        "print(arr[:3, :])\n",
        "print(arr[:2, 2:])"
      ],
      "metadata": {
        "colab": {
          "base_uri": "https://localhost:8080/"
        },
        "id": "01VoQ7i_NqYs",
        "outputId": "80ae9ced-1adb-48e7-f5f8-d1670f603898"
      },
      "execution_count": 27,
      "outputs": [
        {
          "output_type": "stream",
          "name": "stdout",
          "text": [
            "[[ 1  2  3  4]\n",
            " [ 5  6  7  8]\n",
            " [ 9 10 11 12]]\n",
            "[[3 4]\n",
            " [7 8]]\n"
          ]
        }
      ]
    },
    {
      "cell_type": "markdown",
      "source": [
        "## 2-2. 배열의 Fancy 인덱싱"
      ],
      "metadata": {
        "id": "k7hOp35mOLvN"
      }
    },
    {
      "cell_type": "code",
      "source": [
        "# 1차원 배열\n",
        "arr = np.array([5, 10, 15, 20, 25, 30])\n",
        "print(arr[[0, 2, 4]]) # 0번째, 2번째, 4번째 원소를 가져옴"
      ],
      "metadata": {
        "colab": {
          "base_uri": "https://localhost:8080/"
        },
        "id": "tAZA4SXmN2Vl",
        "outputId": "f3533b0c-c856-493e-e8df-c6c730747ad8"
      },
      "execution_count": 28,
      "outputs": [
        {
          "output_type": "stream",
          "name": "stdout",
          "text": [
            "[ 5 15 25]\n"
          ]
        }
      ]
    },
    {
      "cell_type": "code",
      "source": [
        "# 2차원 배열\n",
        "arr = np.array([[5, 10, 15, 20],\n",
        "                [25, 30, 35, 40],\n",
        "                [45, 50, 55, 60]])\n",
        "print(arr[[0, 2], 2:]) # 0행과 2행, 2열부터 끝까지\n",
        "print(arr[1:, [2, 3]]) # 1행부터 끝까지, 2열과 3열"
      ],
      "metadata": {
        "colab": {
          "base_uri": "https://localhost:8080/"
        },
        "id": "DnHPjQAVOZLp",
        "outputId": "ba805f5b-c17b-41df-bfb9-3cd39bc202c1"
      },
      "execution_count": 30,
      "outputs": [
        {
          "output_type": "stream",
          "name": "stdout",
          "text": [
            "[[15 20]\n",
            " [55 60]]\n",
            "[[35 40]\n",
            " [55 60]]\n"
          ]
        }
      ]
    },
    {
      "cell_type": "markdown",
      "source": [
        "## 2-3. 배열의 Boolean 인덱싱\n"
      ],
      "metadata": {
        "id": "w8RyHAwgPvvT"
      }
    },
    {
      "cell_type": "code",
      "source": [
        "arr = np.array([1, 2, 3, 4])\n",
        "print(arr[[True, False, True, True]]) # True에 해당하는 값은 가져오고 False에 해당하는 값은 가져오지 않음"
      ],
      "metadata": {
        "colab": {
          "base_uri": "https://localhost:8080/"
        },
        "id": "5-kODJ37OspF",
        "outputId": "b06994f0-d2ec-4344-bcc9-1d7a33ddd9e5"
      },
      "execution_count": 31,
      "outputs": [
        {
          "output_type": "stream",
          "name": "stdout",
          "text": [
            "[1 3 4]\n"
          ]
        }
      ]
    },
    {
      "cell_type": "code",
      "source": [
        "arr = np.array([[1, 2, 3, 4],\n",
        "                [5, 6, 7, 8]])\n",
        "print(arr[[True, False], True]) # 0행은 가져오고 1행은 가져오지 않음. 열은 모두 가져옴"
      ],
      "metadata": {
        "id": "bIpgtYncPzNG",
        "outputId": "fbd52486-59d9-4c93-8d34-a2d791c0f381",
        "colab": {
          "base_uri": "https://localhost:8080/"
        }
      },
      "execution_count": 32,
      "outputs": [
        {
          "output_type": "stream",
          "name": "stdout",
          "text": [
            "[[1 2 3 4]]\n"
          ]
        }
      ]
    },
    {
      "cell_type": "code",
      "source": [
        "arr = np.array([[1, 2, 3, 4],\n",
        "                [5, 6, 7, 8]])\n",
        "print(arr[arr > 3]) # 조건문 이용. 3보다 큰 원소 가져옴\n",
        "print(arr[arr <= 2]) # 2보다 작거나 같은 원소 가져옴"
      ],
      "metadata": {
        "id": "-M3taVvNP0lW",
        "outputId": "6df0e4af-2974-4191-d294-3b284257c9cb",
        "colab": {
          "base_uri": "https://localhost:8080/"
        }
      },
      "execution_count": 33,
      "outputs": [
        {
          "output_type": "stream",
          "name": "stdout",
          "text": [
            "[4 5 6 7 8]\n",
            "[1 2]\n"
          ]
        }
      ]
    },
    {
      "cell_type": "code",
      "source": [],
      "metadata": {
        "id": "Drcia3WPP2Ps"
      },
      "execution_count": null,
      "outputs": []
    }
  ]
}